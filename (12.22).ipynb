{
 "cells": [
  {
   "cell_type": "code",
   "execution_count": 1,
   "id": "291a0b46-9ed9-4f67-af4f-c3a845924f72",
   "metadata": {},
   "outputs": [],
   "source": [
    "import numpy as np\n",
    "import pandas as pd\n",
    "import matplotlib.pyplot as plt\n",
    "import seaborn as sns"
   ]
  },
  {
   "cell_type": "code",
   "execution_count": 2,
   "id": "8a620877-b690-41ee-88f4-03139b402b55",
   "metadata": {},
   "outputs": [],
   "source": [
    "df = pd.read_csv(r\"C:\\Users\\sk062\\Documents\\Data\\Google Search\\Search.csv\")\n",
    "Data = pd.DataFrame(df)\n",
    "Data[\"Data\"] = pd.to_datetime(Data[\"Data\"])\n",
    "# 'month' 列を作成\n",
    "Data['month'] = Data['Data'].dt.month\n",
    "# 'date' 列を作成\n",
    "Data['day'] = Data['Data'].dt.day\n",
    "# 'week_number' 列を作成\n",
    "Data[\"week_number\"] = Data[\"Data\"].dt.isocalendar().week"
   ]
  },
  {
   "cell_type": "code",
   "execution_count": 3,
   "id": "15dfe07d-b167-4b08-8955-4df24a639bce",
   "metadata": {},
   "outputs": [
    {
     "data": {
      "text/html": [
       "<div>\n",
       "<style scoped>\n",
       "    .dataframe tbody tr th:only-of-type {\n",
       "        vertical-align: middle;\n",
       "    }\n",
       "\n",
       "    .dataframe tbody tr th {\n",
       "        vertical-align: top;\n",
       "    }\n",
       "\n",
       "    .dataframe thead th {\n",
       "        text-align: right;\n",
       "    }\n",
       "</style>\n",
       "<table border=\"1\" class=\"dataframe\">\n",
       "  <thead>\n",
       "    <tr style=\"text-align: right;\">\n",
       "      <th></th>\n",
       "      <th>Data</th>\n",
       "      <th>AIR JORDAN</th>\n",
       "      <th>AIR FORCE</th>\n",
       "      <th>AIR MAX</th>\n",
       "      <th>DUNK</th>\n",
       "      <th>month</th>\n",
       "      <th>day</th>\n",
       "      <th>week_number</th>\n",
       "    </tr>\n",
       "  </thead>\n",
       "  <tbody>\n",
       "    <tr>\n",
       "      <th>0</th>\n",
       "      <td>2019-12-15</td>\n",
       "      <td>43</td>\n",
       "      <td>22</td>\n",
       "      <td>62</td>\n",
       "      <td>6</td>\n",
       "      <td>12</td>\n",
       "      <td>15</td>\n",
       "      <td>50</td>\n",
       "    </tr>\n",
       "    <tr>\n",
       "      <th>1</th>\n",
       "      <td>2019-12-22</td>\n",
       "      <td>47</td>\n",
       "      <td>22</td>\n",
       "      <td>65</td>\n",
       "      <td>4</td>\n",
       "      <td>12</td>\n",
       "      <td>22</td>\n",
       "      <td>51</td>\n",
       "    </tr>\n",
       "    <tr>\n",
       "      <th>2</th>\n",
       "      <td>2019-12-29</td>\n",
       "      <td>51</td>\n",
       "      <td>26</td>\n",
       "      <td>100</td>\n",
       "      <td>3</td>\n",
       "      <td>12</td>\n",
       "      <td>29</td>\n",
       "      <td>52</td>\n",
       "    </tr>\n",
       "    <tr>\n",
       "      <th>3</th>\n",
       "      <td>2020-01-05</td>\n",
       "      <td>44</td>\n",
       "      <td>20</td>\n",
       "      <td>74</td>\n",
       "      <td>4</td>\n",
       "      <td>1</td>\n",
       "      <td>5</td>\n",
       "      <td>1</td>\n",
       "    </tr>\n",
       "    <tr>\n",
       "      <th>4</th>\n",
       "      <td>2020-01-12</td>\n",
       "      <td>41</td>\n",
       "      <td>23</td>\n",
       "      <td>68</td>\n",
       "      <td>4</td>\n",
       "      <td>1</td>\n",
       "      <td>12</td>\n",
       "      <td>2</td>\n",
       "    </tr>\n",
       "  </tbody>\n",
       "</table>\n",
       "</div>"
      ],
      "text/plain": [
       "        Data  AIR JORDAN  AIR FORCE  AIR MAX  DUNK  month  day  week_number\n",
       "0 2019-12-15          43         22       62     6     12   15           50\n",
       "1 2019-12-22          47         22       65     4     12   22           51\n",
       "2 2019-12-29          51         26      100     3     12   29           52\n",
       "3 2020-01-05          44         20       74     4      1    5            1\n",
       "4 2020-01-12          41         23       68     4      1   12            2"
      ]
     },
     "execution_count": 3,
     "metadata": {},
     "output_type": "execute_result"
    }
   ],
   "source": [
    "Data.head()"
   ]
  },
  {
   "cell_type": "code",
   "execution_count": 6,
   "id": "8e4ce782-a237-4296-a915-adcf3b2005a4",
   "metadata": {},
   "outputs": [
    {
     "data": {
      "text/html": [
       "<div>\n",
       "<style scoped>\n",
       "    .dataframe tbody tr th:only-of-type {\n",
       "        vertical-align: middle;\n",
       "    }\n",
       "\n",
       "    .dataframe tbody tr th {\n",
       "        vertical-align: top;\n",
       "    }\n",
       "\n",
       "    .dataframe thead th {\n",
       "        text-align: right;\n",
       "    }\n",
       "</style>\n",
       "<table border=\"1\" class=\"dataframe\">\n",
       "  <thead>\n",
       "    <tr style=\"text-align: right;\">\n",
       "      <th></th>\n",
       "      <th>AIR JORDAN</th>\n",
       "      <th>AIR FORCE</th>\n",
       "      <th>AIR MAX</th>\n",
       "      <th>DUNK</th>\n",
       "    </tr>\n",
       "  </thead>\n",
       "  <tbody>\n",
       "    <tr>\n",
       "      <th>0</th>\n",
       "      <td>43</td>\n",
       "      <td>22</td>\n",
       "      <td>62</td>\n",
       "      <td>6</td>\n",
       "    </tr>\n",
       "    <tr>\n",
       "      <th>1</th>\n",
       "      <td>47</td>\n",
       "      <td>22</td>\n",
       "      <td>65</td>\n",
       "      <td>4</td>\n",
       "    </tr>\n",
       "    <tr>\n",
       "      <th>2</th>\n",
       "      <td>51</td>\n",
       "      <td>26</td>\n",
       "      <td>100</td>\n",
       "      <td>3</td>\n",
       "    </tr>\n",
       "    <tr>\n",
       "      <th>3</th>\n",
       "      <td>44</td>\n",
       "      <td>20</td>\n",
       "      <td>74</td>\n",
       "      <td>4</td>\n",
       "    </tr>\n",
       "    <tr>\n",
       "      <th>4</th>\n",
       "      <td>41</td>\n",
       "      <td>23</td>\n",
       "      <td>68</td>\n",
       "      <td>4</td>\n",
       "    </tr>\n",
       "  </tbody>\n",
       "</table>\n",
       "</div>"
      ],
      "text/plain": [
       "   AIR JORDAN  AIR FORCE  AIR MAX  DUNK\n",
       "0          43         22       62     6\n",
       "1          47         22       65     4\n",
       "2          51         26      100     3\n",
       "3          44         20       74     4\n",
       "4          41         23       68     4"
      ]
     },
     "execution_count": 6,
     "metadata": {},
     "output_type": "execute_result"
    }
   ],
   "source": [
    "Corr_Data = Data.drop(columns=[ 'Data', 'month', \"day\", \"week_number\" ])\n",
    "Corr_Data.head()"
   ]
  },
  {
   "cell_type": "code",
   "execution_count": 9,
   "id": "bdcdd9e9-32b5-4796-81d8-29bd7fb7a927",
   "metadata": {},
   "outputs": [],
   "source": [
    "AIR_JORDAN = Corr_Data[\"AIR JORDAN\"]\n",
    "AIR_FORCE = Corr_Data[\"AIR FORCE\"]\n",
    "AIR_MAX = Corr_Data[\"AIR MAX\"]\n",
    "DUNK = Corr_Data[\"DUNK\"]"
   ]
  },
  {
   "cell_type": "code",
   "execution_count": 10,
   "id": "a35bdf11-3b5e-4ac9-ad42-5628e26be7aa",
   "metadata": {},
   "outputs": [],
   "source": [
    "Blue = \"blue\"\n",
    "Red = \"red\"\n",
    "Black = \"Black\""
   ]
  },
  {
   "cell_type": "code",
   "execution_count": 17,
   "id": "b88901d6-2abd-4934-85f4-d7a17ff919d9",
   "metadata": {},
   "outputs": [
    {
     "name": "stderr",
     "output_type": "stream",
     "text": [
      "C:\\Users\\sk062\\AppData\\Local\\Temp\\ipykernel_4344\\100071128.py:9: UserWarning: No artists with labels found to put in legend.  Note that artists whose label start with an underscore are ignored when legend() is called with no argument.\n",
      "  ax.legend(fontsize=12)\n"
     ]
    },
    {
     "data": {
      "image/png": "[encoded data removed]",
      "text/plain": [
       "<Figure size 800x600 with 1 Axes>"
      ]
     },
     "metadata": {},
     "output_type": "display_data"
    }
   ],
   "source": [
    "fig, ax = plt.subplots(figsize=(8, 6))\n",
    "\n",
    "ax.scatter( AIR_JORDAN, AIR_FORCE, color = Blue)\n",
    "ax.set_xlabel(\"AIR JORDAN Points\")\n",
    "ax.set_xlim(0, 100) \n",
    "ax.set_ylabel(\"AIR FORCE Points\")\n",
    "ax.set_ylim(0, 100) \n",
    "ax.grid(True, linestyle='--', alpha=0.7)\n",
    "ax.legend(fontsize=12)\n",
    "\n",
    "plt.show()"
   ]
  },
  {
   "cell_type": "code",
   "execution_count": 8,
   "id": "9bbef96f-a247-4798-8adc-5f9f9543f4c0",
   "metadata": {},
   "outputs": [
    {
     "data": {
      "text/html": [
       "<div>\n",
       "<style scoped>\n",
       "    .dataframe tbody tr th:only-of-type {\n",
       "        vertical-align: middle;\n",
       "    }\n",
       "\n",
       "    .dataframe tbody tr th {\n",
       "        vertical-align: top;\n",
       "    }\n",
       "\n",
       "    .dataframe thead th {\n",
       "        text-align: right;\n",
       "    }\n",
       "</style>\n",
       "<table border=\"1\" class=\"dataframe\">\n",
       "  <thead>\n",
       "    <tr style=\"text-align: right;\">\n",
       "      <th></th>\n",
       "      <th>AIR JORDAN</th>\n",
       "      <th>AIR FORCE</th>\n",
       "      <th>AIR MAX</th>\n",
       "      <th>DUNK</th>\n",
       "    </tr>\n",
       "  </thead>\n",
       "  <tbody>\n",
       "    <tr>\n",
       "      <th>AIR JORDAN</th>\n",
       "      <td>1.000000</td>\n",
       "      <td>0.541493</td>\n",
       "      <td>-0.216011</td>\n",
       "      <td>0.128218</td>\n",
       "    </tr>\n",
       "    <tr>\n",
       "      <th>AIR FORCE</th>\n",
       "      <td>0.541493</td>\n",
       "      <td>1.000000</td>\n",
       "      <td>0.064255</td>\n",
       "      <td>0.475298</td>\n",
       "    </tr>\n",
       "    <tr>\n",
       "      <th>AIR MAX</th>\n",
       "      <td>-0.216011</td>\n",
       "      <td>0.064255</td>\n",
       "      <td>1.000000</td>\n",
       "      <td>-0.022517</td>\n",
       "    </tr>\n",
       "    <tr>\n",
       "      <th>DUNK</th>\n",
       "      <td>0.128218</td>\n",
       "      <td>0.475298</td>\n",
       "      <td>-0.022517</td>\n",
       "      <td>1.000000</td>\n",
       "    </tr>\n",
       "  </tbody>\n",
       "</table>\n",
       "</div>"
      ],
      "text/plain": [
       "            AIR JORDAN  AIR FORCE   AIR MAX      DUNK\n",
       "AIR JORDAN    1.000000   0.541493 -0.216011  0.128218\n",
       "AIR FORCE     0.541493   1.000000  0.064255  0.475298\n",
       "AIR MAX      -0.216011   0.064255  1.000000 -0.022517\n",
       "DUNK          0.128218   0.475298 -0.022517  1.000000"
      ]
     },
     "execution_count": 8,
     "metadata": {},
     "output_type": "execute_result"
    }
   ],
   "source": [
    "Corr_Data.corr().head()"
   ]
  },
  {
   "cell_type": "code",
   "execution_count": null,
   "id": "f5581f01-62a3-47f1-a1a7-fef35d54b20d",
   "metadata": {},
   "outputs": [],
   "source": []
  }
 ],
 "metadata": {
  "kernelspec": {
   "display_name": "Python 3 (ipykernel)",
   "language": "python",
   "name": "python3"
  },
  "language_info": {
   "codemirror_mode": {
    "name": "ipython",
    "version": 3
   },
   "file_extension": ".py",
   "mimetype": "text/x-python",
   "name": "python",
   "nbconvert_exporter": "python",
   "pygments_lexer": "ipython3",
   "version": "3.12.7"
  }
 },
 "nbformat": 4,
 "nbformat_minor": 5
}
