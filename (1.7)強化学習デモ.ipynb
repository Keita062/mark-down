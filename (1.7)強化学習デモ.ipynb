{
 "cells": [
  {
   "cell_type": "code",
   "execution_count": 2,
   "id": "dbabbe01-6d59-427c-aada-ce70f7d9ffd7",
   "metadata": {},
   "outputs": [
    {
     "name": "stdout",
     "output_type": "stream",
     "text": [
      "Collecting gym\n",
      "  Downloading gym-0.26.2.tar.gz (721 kB)\n",
      "     ---------------------------------------- 0.0/721.7 kB ? eta -:--:--\n",
      "     -------------------------------------- 721.7/721.7 kB 5.9 MB/s eta 0:00:00\n",
      "  Installing build dependencies: started\n",
      "  Installing build dependencies: finished with status 'done'\n",
      "  Getting requirements to build wheel: started\n",
      "  Getting requirements to build wheel: finished with status 'done'\n",
      "  Preparing metadata (pyproject.toml): started\n",
      "  Preparing metadata (pyproject.toml): finished with status 'done'\n",
      "Requirement already satisfied: numpy>=1.18.0 in c:\\users\\sk062\\miniconda3\\envs\\study\\lib\\site-packages (from gym) (1.26.4)\n",
      "Collecting cloudpickle>=1.2.0 (from gym)\n",
      "  Downloading cloudpickle-3.1.0-py3-none-any.whl.metadata (7.0 kB)\n",
      "Collecting gym_notices>=0.0.4 (from gym)\n",
      "  Downloading gym_notices-0.0.8-py3-none-any.whl.metadata (1.0 kB)\n",
      "Downloading cloudpickle-3.1.0-py3-none-any.whl (22 kB)\n",
      "Downloading gym_notices-0.0.8-py3-none-any.whl (3.0 kB)\n",
      "Building wheels for collected packages: gym\n",
      "  Building wheel for gym (pyproject.toml): started\n",
      "  Building wheel for gym (pyproject.toml): finished with status 'done'\n",
      "  Created wheel for gym: filename=gym-0.26.2-py3-none-any.whl size=827635 sha256=44b3b8fe72acd99cb48b062c088f979a60412dbff391ad70ed8ab974314bc249\n",
      "  Stored in directory: c:\\users\\sk062\\appdata\\local\\pip\\cache\\wheels\\95\\51\\6c\\9bb05ebbe7c5cb8171dfaa3611f32622ca4658d53f31c79077\n",
      "Successfully built gym\n",
      "Installing collected packages: gym_notices, cloudpickle, gym\n",
      "Successfully installed cloudpickle-3.1.0 gym-0.26.2 gym_notices-0.0.8\n",
      "Note: you may need to restart the kernel to use updated packages.\n"
     ]
    }
   ],
   "source": [
    "!pip install gym"
   ]
  },
  {
   "cell_type": "code",
   "execution_count": 3,
   "id": "264e7445-1021-43e7-84fc-1d69fb4801f7",
   "metadata": {},
   "outputs": [
    {
     "name": "stderr",
     "output_type": "stream",
     "text": [
      "ERROR: Could not find a version that satisfies the requirement random (from versions: none)\n",
      "ERROR: No matching distribution found for random\n"
     ]
    }
   ],
   "source": [
    "!pip install random"
   ]
  },
  {
   "cell_type": "code",
   "execution_count": 4,
   "id": "2c8903e8-3ef2-4d1b-a94a-6e722bfba4cd",
   "metadata": {},
   "outputs": [],
   "source": [
    "import gym\n",
    "import numpy as np\n",
    "import pandas as pd\n",
    "import random\n",
    "import matplotlib.pyplot as plt"
   ]
  },
  {
   "cell_type": "code",
   "execution_count": null,
   "id": "1b69063a-2ed8-452b-bf91-79eb09a0e86e",
   "metadata": {},
   "outputs": [],
   "source": [
    "import numpy as np\n",
    "import matplotlib.pyplot as plt\n",
    "import random\n",
    "\n",
    "# 簡単な広告配信環境を定義（Gym風）\n",
    "class AdvertisingEnv:\n",
    "    def __init__(self):\n",
    "        self.state_space = 5  # 例えば、5種類の顧客セグメント\n",
    "        self.action_space = 3  # 3種類の広告（A/B/C）\n",
    "        self.state = None  # 状態の初期化\n",
    "    \n",
    "    def reset(self):\n",
    "        self.state = random.randint(0, self.state_space - 1)  # ランダムに顧客セグメントを初期化\n",
    "        return self.state\n",
    "    \n",
    "    def step(self, action):\n",
    "        # 広告の効果は顧客のセグメントに依存する（簡単な報酬の設定）\n",
    "        # 例: 広告A、B、Cそれぞれが、各セグメントに対して異なるクリック率を持つ\n",
    "        rewards = {\n",
    "            0: [0.1, 0.2, 0.15],  # 顧客セグメント0\n",
    "            1: [0.15, 0.3, 0.25],  # 顧客セグメント1\n",
    "            2: [0.2, 0.25, 0.3],   # 顧客セグメント2\n",
    "            3: [0.12, 0.22, 0.18], # 顧客セグメント3\n",
    "            4: [0.13, 0.23, 0.2],  # 顧客セグメント4\n",
    "        }\n",
    "        \n",
    "        reward = rewards[self.state][action]\n",
    "        next_state = random.randint(0, self.state_space - 1)  # 次の顧客セグメントもランダムに選ばれる\n",
    "        done = False  # ここではエピソード終了条件を設定しない\n",
    "        return next_state, reward, done\n",
    "\n",
    "# Q-learningのパラメータ\n",
    "env = AdvertisingEnv()\n",
    "n_actions = env.action_space\n",
    "n_states = env.state_space\n",
    "q_table = np.zeros((n_states, n_actions))  # Qテーブルの初期化\n",
    "\n",
    "alpha = 0.1  # 学習率\n",
    "gamma = 0.9  # 割引率\n",
    "epsilon = 0.1  # 探索率\n",
    "episodes = 1000  # エピソード数\n",
    "\n",
    "reward_history = []  # 報酬の履歴\n",
    "\n",
    "# Q-learningアルゴリズム\n",
    "for episode in range(episodes):\n",
    "    state = env.reset()  # 環境をリセットし、最初の状態を取得\n",
    "    total_reward = 0\n",
    "    done = False\n",
    "\n",
    "    while not done:\n",
    "        if random.uniform(0, 1) < epsilon:  # 探索\n",
    "            action = random.randint(0, n_actions - 1)\n",
    "        else:  # 利用\n",
    "            action = np.argmax(q_table[state, :])\n",
    "\n",
    "        next_state, reward, done = env.step(action)\n",
    "\n",
    "        # Q値の更新\n",
    "        q_table[state, action] = q_table[state, action] + alpha * (reward + gamma * np.max(q_table[next_state, :]) - q_table[state, action])\n",
    "\n",
    "        state = next_state\n",
    "        total_reward += reward\n",
    "\n",
    "    reward_history.append(total_reward)\n",
    "\n",
    "# 結果の可視化\n",
    "plt.plot(range(episodes), reward_history)\n",
    "plt.xlabel('Episodes')\n",
    "plt.ylabel('Total Reward')\n",
    "plt.title('Q-learning for Marketing Optimization')\n",
    "plt.show()\n",
    "\n",
    "# 最終的なQテーブルを表示\n",
    "print(\"Final Q-table:\")\n",
    "print(q_table)\n"
   ]
  },
  {
   "cell_type": "code",
   "execution_count": null,
   "id": "63ec3fbf-a48c-4b56-8d85-2acbbb2659a0",
   "metadata": {},
   "outputs": [],
   "source": []
  }
 ],
 "metadata": {
  "kernelspec": {
   "display_name": "Python 3 (ipykernel)",
   "language": "python",
   "name": "python3"
  },
  "language_info": {
   "codemirror_mode": {
    "name": "ipython",
    "version": 3
   },
   "file_extension": ".py",
   "mimetype": "text/x-python",
   "name": "python",
   "nbconvert_exporter": "python",
   "pygments_lexer": "ipython3",
   "version": "3.12.7"
  }
 },
 "nbformat": 4,
 "nbformat_minor": 5
}
