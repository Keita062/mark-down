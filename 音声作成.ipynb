{
  "nbformat": 4,
  "nbformat_minor": 0,
  "metadata": {
    "colab": {
      "provenance": [],
      "authorship_tag": "ABX9TyPwp2R33gualY7lhAyald7z",
      "include_colab_link": true
    },
    "kernelspec": {
      "name": "python3",
      "display_name": "Python 3"
    },
    "language_info": {
      "name": "python"
    }
  },
  "cells": [
    {
      "cell_type": "markdown",
      "metadata": {
        "id": "view-in-github",
        "colab_type": "text"
      },
      "source": [
        "<a href=\"https://colab.research.google.com/github/Keita062/work/blob/main/%E9%9F%B3%E5%A3%B0%E4%BD%9C%E6%88%90.ipynb\" target=\"_parent\"><img src=\"https://colab.research.google.com/assets/colab-badge.svg\" alt=\"Open In Colab\"/></a>"
      ]
    },
    {
      "cell_type": "code",
      "execution_count": null,
      "metadata": {
        "id": "ON7qSgWQiaZz"
      },
      "outputs": [],
      "source": [
        "import numpy as np\n",
        "from scipy.io.wavfile import write\n",
        "\n",
        "# サウンドのパラメータ\n",
        "sample_rate = 44100  # サンプルレート（Hz）\n",
        "duration = 1  # 音の持続時間（秒）\n",
        "frequency = 440  # サウンドの周波数（Hz）-> A4音\n",
        "\n",
        "# 時間軸の作成\n",
        "t = np.linspace(0, duration, int(sample_rate * duration), endpoint=False)\n",
        "\n",
        "# サイン波の生成\n",
        "audio_data = 0.5 * np.sin(2 * np.pi * frequency * t)\n",
        "\n",
        "# WAVファイルとして保存\n",
        "write(\"generated_sound.wav\", sample_rate, audio_data.astype(np.float32))\n"
      ]
    }
  ]
}