{
 "cells": [
  {
   "cell_type": "code",
   "execution_count": 1,
   "id": "4f7226d1-9ff1-45bb-9c05-2f8255425c5c",
   "metadata": {},
   "outputs": [],
   "source": [
    "import numpy as np\n",
    "import pandas as pd\n",
    "import matplotlib.pyplot as plt\n",
    "import seaborn as sns"
   ]
  },
  {
   "cell_type": "code",
   "execution_count": 2,
   "id": "4de8a03c-8b79-41fc-a78e-c088e3ae3f21",
   "metadata": {},
   "outputs": [],
   "source": [
    "Data = pd.read_csv(r\"C:\\Users\\sk062\\Documents\\Data\\Google Search\\Search.csv\",encoding= \"shift-jis\")\n",
    "Data[\"Data\"] = pd.to_datetime(Data[\"Data\"])\n",
    "Data[\"Year\"] = Data[\"Data\"].dt.year\n",
    "Data['Month'] = Data['Data'].dt.month\n",
    "Data['Day'] = Data['Data'].dt.day\n",
    "Data[\"Week_number\"] = Data[\"Data\"].dt.isocalendar().week"
   ]
  },
  {
   "cell_type": "code",
   "execution_count": 3,
   "id": "f1d594e7-38ea-4bc3-9469-f7f3f354d195",
   "metadata": {},
   "outputs": [],
   "source": [
    "# Pythonでヒストグラムを書いて関数を算出。その後、対数変換もしくは標準化して標準正規分布にする。"
   ]
  },
  {
   "cell_type": "code",
   "execution_count": 5,
   "id": "db0dd8a2-002c-4b7e-8718-af9d7d75e546",
   "metadata": {},
   "outputs": [
    {
     "data": {
      "text/html": [
       "<div>\n",
       "<style scoped>\n",
       "    .dataframe tbody tr th:only-of-type {\n",
       "        vertical-align: middle;\n",
       "    }\n",
       "\n",
       "    .dataframe tbody tr th {\n",
       "        vertical-align: top;\n",
       "    }\n",
       "\n",
       "    .dataframe thead th {\n",
       "        text-align: right;\n",
       "    }\n",
       "</style>\n",
       "<table border=\"1\" class=\"dataframe\">\n",
       "  <thead>\n",
       "    <tr style=\"text-align: right;\">\n",
       "      <th></th>\n",
       "      <th>Data</th>\n",
       "      <th>AIR JORDAN</th>\n",
       "      <th>AIR FORCE</th>\n",
       "      <th>AIR MAX</th>\n",
       "      <th>DUNK</th>\n",
       "      <th>Year</th>\n",
       "      <th>Month</th>\n",
       "      <th>Day</th>\n",
       "      <th>Week_number</th>\n",
       "    </tr>\n",
       "  </thead>\n",
       "  <tbody>\n",
       "    <tr>\n",
       "      <th>0</th>\n",
       "      <td>2019-12-15</td>\n",
       "      <td>43</td>\n",
       "      <td>22</td>\n",
       "      <td>62</td>\n",
       "      <td>6</td>\n",
       "      <td>2019</td>\n",
       "      <td>12</td>\n",
       "      <td>15</td>\n",
       "      <td>50</td>\n",
       "    </tr>\n",
       "    <tr>\n",
       "      <th>1</th>\n",
       "      <td>2019-12-22</td>\n",
       "      <td>47</td>\n",
       "      <td>22</td>\n",
       "      <td>65</td>\n",
       "      <td>4</td>\n",
       "      <td>2019</td>\n",
       "      <td>12</td>\n",
       "      <td>22</td>\n",
       "      <td>51</td>\n",
       "    </tr>\n",
       "    <tr>\n",
       "      <th>2</th>\n",
       "      <td>2019-12-29</td>\n",
       "      <td>51</td>\n",
       "      <td>26</td>\n",
       "      <td>100</td>\n",
       "      <td>3</td>\n",
       "      <td>2019</td>\n",
       "      <td>12</td>\n",
       "      <td>29</td>\n",
       "      <td>52</td>\n",
       "    </tr>\n",
       "    <tr>\n",
       "      <th>3</th>\n",
       "      <td>2020-01-05</td>\n",
       "      <td>44</td>\n",
       "      <td>20</td>\n",
       "      <td>74</td>\n",
       "      <td>4</td>\n",
       "      <td>2020</td>\n",
       "      <td>1</td>\n",
       "      <td>5</td>\n",
       "      <td>1</td>\n",
       "    </tr>\n",
       "    <tr>\n",
       "      <th>4</th>\n",
       "      <td>2020-01-12</td>\n",
       "      <td>41</td>\n",
       "      <td>23</td>\n",
       "      <td>68</td>\n",
       "      <td>4</td>\n",
       "      <td>2020</td>\n",
       "      <td>1</td>\n",
       "      <td>12</td>\n",
       "      <td>2</td>\n",
       "    </tr>\n",
       "  </tbody>\n",
       "</table>\n",
       "</div>"
      ],
      "text/plain": [
       "        Data  AIR JORDAN  AIR FORCE  AIR MAX  DUNK  Year  Month  Day  \\\n",
       "0 2019-12-15          43         22       62     6  2019     12   15   \n",
       "1 2019-12-22          47         22       65     4  2019     12   22   \n",
       "2 2019-12-29          51         26      100     3  2019     12   29   \n",
       "3 2020-01-05          44         20       74     4  2020      1    5   \n",
       "4 2020-01-12          41         23       68     4  2020      1   12   \n",
       "\n",
       "   Week_number  \n",
       "0           50  \n",
       "1           51  \n",
       "2           52  \n",
       "3            1  \n",
       "4            2  "
      ]
     },
     "execution_count": 5,
     "metadata": {},
     "output_type": "execute_result"
    }
   ],
   "source": [
    "# データの確認\n",
    "Data.head()"
   ]
  },
  {
   "cell_type": "code",
   "execution_count": 10,
   "id": "2b75a709-b6a3-46cc-8d27-d8128c43154a",
   "metadata": {},
   "outputs": [
    {
     "data": {
      "text/html": [
       "<div>\n",
       "<style scoped>\n",
       "    .dataframe tbody tr th:only-of-type {\n",
       "        vertical-align: middle;\n",
       "    }\n",
       "\n",
       "    .dataframe tbody tr th {\n",
       "        vertical-align: top;\n",
       "    }\n",
       "\n",
       "    .dataframe thead th {\n",
       "        text-align: right;\n",
       "    }\n",
       "</style>\n",
       "<table border=\"1\" class=\"dataframe\">\n",
       "  <thead>\n",
       "    <tr style=\"text-align: right;\">\n",
       "      <th></th>\n",
       "      <th>Data</th>\n",
       "      <th>AIR JORDAN</th>\n",
       "      <th>AIR FORCE</th>\n",
       "      <th>AIR MAX</th>\n",
       "      <th>DUNK</th>\n",
       "      <th>Year</th>\n",
       "      <th>Month</th>\n",
       "      <th>Day</th>\n",
       "      <th>Week_number</th>\n",
       "    </tr>\n",
       "  </thead>\n",
       "  <tbody>\n",
       "    <tr>\n",
       "      <th>count</th>\n",
       "      <td>262</td>\n",
       "      <td>262.000000</td>\n",
       "      <td>262.000000</td>\n",
       "      <td>262.000000</td>\n",
       "      <td>262.000000</td>\n",
       "      <td>262.000000</td>\n",
       "      <td>262.000000</td>\n",
       "      <td>262.000000</td>\n",
       "      <td>262.0</td>\n",
       "    </tr>\n",
       "    <tr>\n",
       "      <th>mean</th>\n",
       "      <td>2022-06-15 12:00:00</td>\n",
       "      <td>48.667939</td>\n",
       "      <td>30.637405</td>\n",
       "      <td>44.835878</td>\n",
       "      <td>7.522901</td>\n",
       "      <td>2021.954198</td>\n",
       "      <td>6.526718</td>\n",
       "      <td>15.797710</td>\n",
       "      <td>26.69084</td>\n",
       "    </tr>\n",
       "    <tr>\n",
       "      <th>min</th>\n",
       "      <td>2019-12-15 00:00:00</td>\n",
       "      <td>19.000000</td>\n",
       "      <td>15.000000</td>\n",
       "      <td>22.000000</td>\n",
       "      <td>2.000000</td>\n",
       "      <td>2019.000000</td>\n",
       "      <td>1.000000</td>\n",
       "      <td>1.000000</td>\n",
       "      <td>1.0</td>\n",
       "    </tr>\n",
       "    <tr>\n",
       "      <th>25%</th>\n",
       "      <td>2021-03-15 18:00:00</td>\n",
       "      <td>43.000000</td>\n",
       "      <td>23.250000</td>\n",
       "      <td>34.250000</td>\n",
       "      <td>4.000000</td>\n",
       "      <td>2021.000000</td>\n",
       "      <td>4.000000</td>\n",
       "      <td>8.000000</td>\n",
       "      <td>14.0</td>\n",
       "    </tr>\n",
       "    <tr>\n",
       "      <th>50%</th>\n",
       "      <td>2022-06-15 12:00:00</td>\n",
       "      <td>48.000000</td>\n",
       "      <td>30.500000</td>\n",
       "      <td>43.000000</td>\n",
       "      <td>6.000000</td>\n",
       "      <td>2022.000000</td>\n",
       "      <td>7.000000</td>\n",
       "      <td>16.000000</td>\n",
       "      <td>27.0</td>\n",
       "    </tr>\n",
       "    <tr>\n",
       "      <th>75%</th>\n",
       "      <td>2023-09-15 06:00:00</td>\n",
       "      <td>53.000000</td>\n",
       "      <td>37.000000</td>\n",
       "      <td>52.000000</td>\n",
       "      <td>8.000000</td>\n",
       "      <td>2023.000000</td>\n",
       "      <td>10.000000</td>\n",
       "      <td>23.000000</td>\n",
       "      <td>40.0</td>\n",
       "    </tr>\n",
       "    <tr>\n",
       "      <th>max</th>\n",
       "      <td>2024-12-15 00:00:00</td>\n",
       "      <td>94.000000</td>\n",
       "      <td>60.000000</td>\n",
       "      <td>100.000000</td>\n",
       "      <td>32.000000</td>\n",
       "      <td>2024.000000</td>\n",
       "      <td>12.000000</td>\n",
       "      <td>31.000000</td>\n",
       "      <td>53.0</td>\n",
       "    </tr>\n",
       "    <tr>\n",
       "      <th>std</th>\n",
       "      <td>NaN</td>\n",
       "      <td>9.574493</td>\n",
       "      <td>8.460536</td>\n",
       "      <td>13.273998</td>\n",
       "      <td>5.787873</td>\n",
       "      <td>1.437658</td>\n",
       "      <td>3.472560</td>\n",
       "      <td>8.797483</td>\n",
       "      <td>15.13793</td>\n",
       "    </tr>\n",
       "  </tbody>\n",
       "</table>\n",
       "</div>"
      ],
      "text/plain": [
       "                      Data  AIR JORDAN   AIR FORCE     AIR MAX        DUNK  \\\n",
       "count                  262  262.000000  262.000000  262.000000  262.000000   \n",
       "mean   2022-06-15 12:00:00   48.667939   30.637405   44.835878    7.522901   \n",
       "min    2019-12-15 00:00:00   19.000000   15.000000   22.000000    2.000000   \n",
       "25%    2021-03-15 18:00:00   43.000000   23.250000   34.250000    4.000000   \n",
       "50%    2022-06-15 12:00:00   48.000000   30.500000   43.000000    6.000000   \n",
       "75%    2023-09-15 06:00:00   53.000000   37.000000   52.000000    8.000000   \n",
       "max    2024-12-15 00:00:00   94.000000   60.000000  100.000000   32.000000   \n",
       "std                    NaN    9.574493    8.460536   13.273998    5.787873   \n",
       "\n",
       "              Year       Month         Day  Week_number  \n",
       "count   262.000000  262.000000  262.000000        262.0  \n",
       "mean   2021.954198    6.526718   15.797710     26.69084  \n",
       "min    2019.000000    1.000000    1.000000          1.0  \n",
       "25%    2021.000000    4.000000    8.000000         14.0  \n",
       "50%    2022.000000    7.000000   16.000000         27.0  \n",
       "75%    2023.000000   10.000000   23.000000         40.0  \n",
       "max    2024.000000   12.000000   31.000000         53.0  \n",
       "std       1.437658    3.472560    8.797483     15.13793  "
      ]
     },
     "execution_count": 10,
     "metadata": {},
     "output_type": "execute_result"
    }
   ],
   "source": [
    "# Dataの記述統計量の確認\n",
    "Data.describe()"
   ]
  },
  {
   "cell_type": "code",
   "execution_count": 12,
   "id": "e4732646-098f-48ac-8171-93ff0d6ec666",
   "metadata": {},
   "outputs": [
    {
     "data": {
      "text/plain": [
       "(array([  0.,   4.,  10., 116.,  99.,  26.,   6.,   1.,   0.,   0.]),\n",
       " array([  0.,  12.,  24.,  36.,  48.,  60.,  72.,  84.,  96., 108., 120.]),\n",
       " <BarContainer object of 10 artists>)"
      ]
     },
     "execution_count": 12,
     "metadata": {},
     "output_type": "execute_result"
    },
    {
     "data": {
      "image/png": "[encoded data removed]",
      "text/plain": [
       "<Figure size 640x480 with 1 Axes>"
      ]
     },
     "metadata": {},
     "output_type": "display_data"
    }
   ],
   "source": [
    "# AIR_JORDANのヒストグラムを描く\n",
    "\n",
    "plt.hist( Data[\"AIR JORDAN\"], range=(0,120))"
   ]
  },
  {
   "cell_type": "code",
   "execution_count": 18,
   "id": "963b5f7b-6747-4179-81c4-7e68a6aeb8f6",
   "metadata": {},
   "outputs": [],
   "source": [
    "from scipy.stats import gaussian_kde"
   ]
  },
  {
   "cell_type": "code",
   "execution_count": 30,
   "id": "ca7789d1-232d-423b-8645-9db53cb5c7ad",
   "metadata": {},
   "outputs": [
    {
     "data": {
      "image/png": "[encoded data removed]",
      "text/plain": [
       "<Figure size 640x480 with 1 Axes>"
      ]
     },
     "metadata": {},
     "output_type": "display_data"
    }
   ],
   "source": [
    "# AIR_JORDANの確率密度関数をしる。\n",
    "kde = gaussian_kde(Data[\"AIR JORDAN\"])\n",
    "\n",
    "# PDFをプロットするためのx軸の値を生成\n",
    "x = np.linspace(min(Data[\"AIR JORDAN\"]), max(Data[\"AIR JORDAN\"]), 1000)\n",
    "\n",
    "# xの値でPDFを評価\n",
    "pdf = kde(x)\n",
    "\n",
    "# KDEとヒストグラムをプロット\n",
    "plt.plot(x, pdf, label='KDE', color='b')\n",
    "plt.hist(Data[\"AIR JORDAN\"], bins=30, density=True, alpha=0.6, color='r', label='ヒストグラム')\n",
    "plt.xlabel('Value')  # 値\n",
    "plt.ylabel('probability density')  # 確率密度\n",
    "plt.legend()\n",
    "plt.show()"
   ]
  },
  {
   "cell_type": "code",
   "execution_count": 31,
   "id": "54492775-7803-4c52-b285-08db930fc31d",
   "metadata": {},
   "outputs": [
    {
     "name": "stdout",
     "output_type": "stream",
     "text": [
      "Y = f(X)の形での確率密度関数:\n",
      "X = 19.00, Y = 0.0014\n",
      "X = 19.08, Y = 0.0014\n",
      "X = 19.15, Y = 0.0014\n",
      "X = 19.23, Y = 0.0014\n",
      "X = 19.30, Y = 0.0015\n"
     ]
    }
   ],
   "source": [
    "# 関数の形で表示\n",
    "def kde_function(x):\n",
    "    return kde(x)\n",
    "\n",
    "# 関数Y = f(X)を表示\n",
    "print(\"Y = f(X)の形での確率密度関数:\")\n",
    "for xi, pdf_value in zip(x[:5], pdf[:5]):  # 最初の5つの値を表示（必要に応じて調整）\n",
    "    print(f\"X = {xi:.2f}, Y = {pdf_value:.4f}\")"
   ]
  },
  {
   "cell_type": "code",
   "execution_count": 48,
   "id": "f2d8d3bd-b323-4f1d-926d-f2ab03a3bb63",
   "metadata": {},
   "outputs": [],
   "source": [
    "from sklearn import preprocessing\n",
    "import scipy.stats"
   ]
  },
  {
   "cell_type": "code",
   "execution_count": 49,
   "id": "654a4aed-771f-4121-ac62-88043ef5ecff",
   "metadata": {},
   "outputs": [],
   "source": [
    "Data_Copy = Data.copy()\n",
    "Data_Copy = Data_Copy.drop([\"Data\",\"Year\",\"Month\",\"Day\",\"Week_number\"],axis=1)"
   ]
  },
  {
   "cell_type": "code",
   "execution_count": 69,
   "id": "71be1f6a-13c3-4e87-9ca6-3e4a7f02a16c",
   "metadata": {},
   "outputs": [],
   "source": [
    "# 標準化の実行\n",
    "Data_new = scipy.stats.zscore(Data_Copy, axis=0, ddof=0)"
   ]
  },
  {
   "cell_type": "code",
   "execution_count": 70,
   "id": "65011d99-4dc2-4f8b-a685-faf318d3c4dd",
   "metadata": {},
   "outputs": [
    {
     "name": "stdout",
     "output_type": "stream",
     "text": [
      "AIR JORDAN   -2.440796e-16\n",
      "AIR FORCE    -1.016998e-16\n",
      "AIR MAX       2.169596e-16\n",
      "DUNK          2.711995e-17\n",
      "dtype: float64\n",
      "AIR JORDAN    1.001914\n",
      "AIR FORCE     1.001914\n",
      "AIR MAX       1.001914\n",
      "DUNK          1.001914\n",
      "dtype: float64\n"
     ]
    }
   ],
   "source": [
    "# 結果の確認\n",
    "print(Data_new.mean(axis=0))  # 各行ごとの平均\n",
    "print(Data_new.std(axis=0))   # 各行ごとの標準偏差"
   ]
  },
  {
   "cell_type": "code",
   "execution_count": 71,
   "id": "f97f5112-a1c9-4f39-b2ed-394c6e98d42d",
   "metadata": {},
   "outputs": [
    {
     "name": "stdout",
     "output_type": "stream",
     "text": [
      "平均値（列ごと）: AIR JORDAN   -2.440796e-16\n",
      "AIR FORCE    -1.016998e-16\n",
      "AIR MAX       2.169596e-16\n",
      "DUNK          2.711995e-17\n",
      "dtype: float64\n",
      "標準偏差（列ごと）: AIR JORDAN    1.001914\n",
      "AIR FORCE     1.001914\n",
      "AIR MAX       1.001914\n",
      "DUNK          1.001914\n",
      "dtype: float64\n",
      "元データの平均（列ごと）: AIR JORDAN    48.667939\n",
      "AIR FORCE     30.637405\n",
      "AIR MAX       44.835878\n",
      "DUNK           7.522901\n",
      "dtype: float64\n",
      "元データの標準偏差（列ごと）: AIR JORDAN     9.574493\n",
      "AIR FORCE      8.460536\n",
      "AIR MAX       13.273998\n",
      "DUNK           5.787873\n",
      "dtype: float64\n"
     ]
    }
   ],
   "source": [
    "# 結果の確認\n",
    "print(\"平均値（列ごと）:\", Data_new.mean(axis=0))  # 各列の平均\n",
    "print(\"標準偏差（列ごと）:\", Data_new.std(axis=0))   # 各列の標準偏差\n",
    "\n",
    "# 元データの平均、標準偏差も確認してみる\n",
    "print(\"元データの平均（列ごと）:\", Data_Copy.mean(axis=0))\n",
    "print(\"元データの標準偏差（列ごと）:\", Data_Copy.std(axis=0))"
   ]
  },
  {
   "cell_type": "code",
   "execution_count": 73,
   "id": "e75a5a01-4417-4b9f-ab60-16d97e622bf1",
   "metadata": {},
   "outputs": [
    {
     "data": {
      "text/html": [
       "<div>\n",
       "<style scoped>\n",
       "    .dataframe tbody tr th:only-of-type {\n",
       "        vertical-align: middle;\n",
       "    }\n",
       "\n",
       "    .dataframe tbody tr th {\n",
       "        vertical-align: top;\n",
       "    }\n",
       "\n",
       "    .dataframe thead th {\n",
       "        text-align: right;\n",
       "    }\n",
       "</style>\n",
       "<table border=\"1\" class=\"dataframe\">\n",
       "  <thead>\n",
       "    <tr style=\"text-align: right;\">\n",
       "      <th></th>\n",
       "      <th>AIR JORDAN</th>\n",
       "      <th>AIR FORCE</th>\n",
       "      <th>AIR MAX</th>\n",
       "      <th>DUNK</th>\n",
       "    </tr>\n",
       "  </thead>\n",
       "  <tbody>\n",
       "    <tr>\n",
       "      <th>0</th>\n",
       "      <td>-0.593116</td>\n",
       "      <td>-1.022859</td>\n",
       "      <td>1.295538</td>\n",
       "      <td>-0.263623</td>\n",
       "    </tr>\n",
       "    <tr>\n",
       "      <th>1</th>\n",
       "      <td>-0.174540</td>\n",
       "      <td>-1.022859</td>\n",
       "      <td>1.521977</td>\n",
       "      <td>-0.609834</td>\n",
       "    </tr>\n",
       "    <tr>\n",
       "      <th>2</th>\n",
       "      <td>0.244036</td>\n",
       "      <td>-0.549171</td>\n",
       "      <td>4.163757</td>\n",
       "      <td>-0.782940</td>\n",
       "    </tr>\n",
       "    <tr>\n",
       "      <th>3</th>\n",
       "      <td>-0.488472</td>\n",
       "      <td>-1.259703</td>\n",
       "      <td>2.201292</td>\n",
       "      <td>-0.609834</td>\n",
       "    </tr>\n",
       "    <tr>\n",
       "      <th>4</th>\n",
       "      <td>-0.802404</td>\n",
       "      <td>-0.904437</td>\n",
       "      <td>1.748415</td>\n",
       "      <td>-0.609834</td>\n",
       "    </tr>\n",
       "  </tbody>\n",
       "</table>\n",
       "</div>"
      ],
      "text/plain": [
       "   AIR JORDAN  AIR FORCE   AIR MAX      DUNK\n",
       "0   -0.593116  -1.022859  1.295538 -0.263623\n",
       "1   -0.174540  -1.022859  1.521977 -0.609834\n",
       "2    0.244036  -0.549171  4.163757 -0.782940\n",
       "3   -0.488472  -1.259703  2.201292 -0.609834\n",
       "4   -0.802404  -0.904437  1.748415 -0.609834"
      ]
     },
     "execution_count": 73,
     "metadata": {},
     "output_type": "execute_result"
    }
   ],
   "source": [
    "Data_new.head()"
   ]
  },
  {
   "cell_type": "code",
   "execution_count": 74,
   "id": "c4ceaedf-2f58-4f99-82de-26e00c358285",
   "metadata": {},
   "outputs": [
    {
     "data": {
      "text/plain": [
       "(array([ 5.,  4., 36., 93., 79., 30.,  8.,  6.,  0.,  1.]),\n",
       " array([-3.10457366, -2.31974319, -1.53491272, -0.75008225,  0.03474822,\n",
       "         0.81957869,  1.60440916,  2.38923963,  3.1740701 ,  3.95890057,\n",
       "         4.74373104]),\n",
       " <BarContainer object of 10 artists>)"
      ]
     },
     "execution_count": 74,
     "metadata": {},
     "output_type": "execute_result"
    },
    {
     "data": {
      "image/png": "[encoded data removed]",
      "text/plain": [
       "<Figure size 640x480 with 1 Axes>"
      ]
     },
     "metadata": {},
     "output_type": "display_data"
    }
   ],
   "source": [
    "# AIR_JORDANのヒストグラムを描く\n",
    "\n",
    "plt.hist( Data_new[\"AIR JORDAN\"])"
   ]
  },
  {
   "cell_type": "code",
   "execution_count": null,
   "id": "13e410d0-d6d0-4bd6-903f-d5f206800f5a",
   "metadata": {},
   "outputs": [],
   "source": []
  }
 ],
 "metadata": {
  "kernelspec": {
   "display_name": "Python 3 (ipykernel)",
   "language": "python",
   "name": "python3"
  },
  "language_info": {
   "codemirror_mode": {
    "name": "ipython",
    "version": 3
   },
   "file_extension": ".py",
   "mimetype": "text/x-python",
   "name": "python",
   "nbconvert_exporter": "python",
   "pygments_lexer": "ipython3",
   "version": "3.12.7"
  }
 },
 "nbformat": 4,
 "nbformat_minor": 5
}
