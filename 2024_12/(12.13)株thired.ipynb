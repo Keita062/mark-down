{
 "cells": [
  {
   "cell_type": "code",
   "execution_count": 96,
   "id": "9a944e39-0070-455f-9c63-6ec1ac983f84",
   "metadata": {},
   "outputs": [],
   "source": [
    "import numpy as np\n",
    "import pandas as pd\n",
    "import matplotlib.pyplot as plt\n",
    "import scipy.stats"
   ]
  },
  {
   "cell_type": "code",
   "execution_count": 2,
   "id": "c080eb0c-e447-49e8-88d8-71736f38f28d",
   "metadata": {},
   "outputs": [],
   "source": [
    "# データの定義\n",
    "Toyota = pd.read_csv(r'C:\\Users\\sk062\\Documents\\Data\\yfinance\\Toyota.csv')\n",
    "Toyota = Toyota.drop( columns = \"index\")\n",
    "Aisin = pd.read_csv(r'C:\\Users\\sk062\\Documents\\Data\\yfinance\\Aisin.csv')\n",
    "Fujitu = pd.read_csv(r'C:\\Users\\sk062\\Documents\\Data\\yfinance\\Fujitu.csv')\n",
    "Hitati = pd.read_csv(r'C:\\Users\\sk062\\Documents\\Data\\yfinance\\Hitati.csv')\n",
    "Hondagiken = pd.read_csv(r'C:\\Users\\sk062\\Documents\\Data\\yfinance\\Hondagiken.csv')\n",
    "Nissan = pd.read_csv(r'C:\\Users\\sk062\\Documents\\Data\\yfinance\\Nissan.csv')\n",
    "Softbank = pd.read_csv(r'C:\\Users\\sk062\\Documents\\Data\\yfinance\\Softbank.csv')\n",
    "Sony = pd.read_csv(r'C:\\Users\\sk062\\Documents\\Data\\yfinance\\Sony.csv')\n",
    "Suzuki = pd.read_csv(r'C:\\Users\\sk062\\Documents\\Data\\yfinance\\Suzuki.csv')"
   ]
  },
  {
   "cell_type": "code",
   "execution_count": 5,
   "id": "000e8a67-f512-4d55-9d9c-1bca0af0f8f4",
   "metadata": {},
   "outputs": [
    {
     "name": "stdout",
     "output_type": "stream",
     "text": [
      "Index(['company', 'Date', 'Adj Close', 'Close', 'High', 'Low', 'Open',\n",
      "       'Volume'],\n",
      "      dtype='object')\n",
      "Index(['Date', 'Company', 'Adj Close', 'Close', 'High', 'Low', 'Open',\n",
      "       'Volume'],\n",
      "      dtype='object')\n",
      "Index(['Date', 'Company', 'Adj Close', 'Close', 'High', 'Low', 'Open',\n",
      "       'Volume'],\n",
      "      dtype='object')\n",
      "Index(['Date', 'Company', 'Adj Close', 'Close', 'High', 'Low', 'Open',\n",
      "       'Volume'],\n",
      "      dtype='object')\n",
      "Index(['Date', 'Company', 'Adj Close', 'Close', 'High', 'Low', 'Open',\n",
      "       'Volume'],\n",
      "      dtype='object')\n",
      "Index(['Date', 'Company', 'Adj Close', 'Close', 'High', 'Low', 'Open',\n",
      "       'Volume'],\n",
      "      dtype='object')\n",
      "Index(['Date', 'Comapany', 'Adj Close', 'Close', 'High', 'Low', 'Open',\n",
      "       'Volume'],\n",
      "      dtype='object')\n",
      "Index(['Date', 'Company', 'Adj Close', 'Close', 'High', 'Low', 'Open',\n",
      "       'Volume'],\n",
      "      dtype='object')\n",
      "Index(['Date', 'Company', 'Adj Close', 'Close', 'High', 'Low', 'Open',\n",
      "       'Volume'],\n",
      "      dtype='object')\n"
     ]
    }
   ],
   "source": [
    "# 列名の確認\n",
    "print(Toyota.columns)\n",
    "print(Aisin.columns)\n",
    "print(Fujitu.columns)\n",
    "print(Hitati.columns)\n",
    "print(Hondagiken.columns)\n",
    "print(Nissan.columns)\n",
    "print(Softbank.columns)\n",
    "print(Sony.columns)\n",
    "print(Suzuki.columns)"
   ]
  },
  {
   "cell_type": "code",
   "execution_count": 6,
   "id": "6707927a-0883-42b6-9f28-30f6ebfcc3e1",
   "metadata": {},
   "outputs": [
    {
     "name": "stdout",
     "output_type": "stream",
     "text": [
      "(6409, 8)\n",
      "(973, 8)\n",
      "(6236, 8)\n",
      "(6236, 8)\n",
      "(6236, 8)\n",
      "(6236, 8)\n",
      "(6236, 8)\n",
      "(6236, 8)\n",
      "(6236, 8)\n"
     ]
    }
   ],
   "source": [
    "print(Toyota.shape)\n",
    "print(Aisin.shape)\n",
    "print(Fujitu.shape)\n",
    "print(Hitati.shape)\n",
    "print(Hondagiken.shape)\n",
    "print(Nissan.shape)\n",
    "print(Softbank.shape)\n",
    "print(Sony.shape)\n",
    "print(Suzuki.shape)"
   ]
  },
  {
   "cell_type": "code",
   "execution_count": 7,
   "id": "55f6017d-fa33-4029-a9e8-23ac92e89793",
   "metadata": {},
   "outputs": [],
   "source": [
    "# 型の変更\n",
    "Toyota[\"Date\"] = pd.to_datetime(Toyota[\"Date\"])\n",
    "Aisin[\"Date\"] = pd.to_datetime(Aisin[\"Date\"])\n",
    "Fujitu[\"Date\"] = pd.to_datetime(Fujitu[\"Date\"])\n",
    "Hitati[\"Date\"] = pd.to_datetime(Hitati[\"Date\"])\n",
    "Hondagiken[\"Date\"] = pd.to_datetime(Hondagiken[\"Date\"])\n",
    "Nissan[\"Date\"] = pd.to_datetime(Nissan[\"Date\"])\n",
    "Softbank[\"Date\"] = pd.to_datetime(Softbank[\"Date\"])\n",
    "Sony[\"Date\"] = pd.to_datetime(Sony[\"Date\"])\n",
    "Suzuki[\"Date\"] = pd.to_datetime(Suzuki[\"Date\"])"
   ]
  },
  {
   "cell_type": "code",
   "execution_count": 8,
   "id": "2532c5d8-317b-4058-877e-7ffa2ea3ab2f",
   "metadata": {},
   "outputs": [
    {
     "name": "stdout",
     "output_type": "stream",
     "text": [
      "company              object\n",
      "Date         datetime64[ns]\n",
      "Adj Close           float64\n",
      "Close               float64\n",
      "High                float64\n",
      "Low                 float64\n",
      "Open                float64\n",
      "Volume                int64\n",
      "dtype: object\n",
      "Date         datetime64[ns]\n",
      "Company              object\n",
      "Adj Close           float64\n",
      "Close               float64\n",
      "High                float64\n",
      "Low                 float64\n",
      "Open                float64\n",
      "Volume                int64\n",
      "dtype: object\n"
     ]
    }
   ],
   "source": [
    "print(Toyota.dtypes)\n",
    "print(Aisin.dtypes)"
   ]
  },
  {
   "cell_type": "code",
   "execution_count": 9,
   "id": "6cc4a920-c76c-4ccc-bd41-197308fb5249",
   "metadata": {},
   "outputs": [
    {
     "name": "stdout",
     "output_type": "stream",
     "text": [
      "1999-05-06 00:00:00\n",
      "2020-12-24 00:00:00\n",
      "2000-01-04 00:00:00\n",
      "2000-01-04 00:00:00\n",
      "2000-01-04 00:00:00\n",
      "2000-01-04 00:00:00\n",
      "2000-01-04 00:00:00\n",
      "2000-01-04 00:00:00\n"
     ]
    }
   ],
   "source": [
    "print(Toyota[\"Date\"].min())\n",
    "print(Aisin[\"Date\"].min())\n",
    "print(Fujitu[\"Date\"].min())\n",
    "print(Hitati[\"Date\"].min())\n",
    "print(Hondagiken[\"Date\"].min())\n",
    "print(Softbank[\"Date\"].min())\n",
    "print(Sony[\"Date\"].min())\n",
    "print(Suzuki[\"Date\"].min())"
   ]
  },
  {
   "cell_type": "code",
   "execution_count": 10,
   "id": "dfd3ea6d-9630-4872-8a5d-40d452e5c301",
   "metadata": {},
   "outputs": [
    {
     "name": "stdout",
     "output_type": "stream",
     "text": [
      "2024-12-12 00:00:00\n",
      "2024-12-12 00:00:00\n",
      "2024-12-12 00:00:00\n",
      "2024-12-12 00:00:00\n",
      "2024-12-12 00:00:00\n",
      "2024-12-12 00:00:00\n",
      "2024-12-12 00:00:00\n",
      "2024-12-12 00:00:00\n"
     ]
    }
   ],
   "source": [
    "print(Toyota[\"Date\"].max())\n",
    "print(Aisin[\"Date\"].max())\n",
    "print(Fujitu[\"Date\"].max())\n",
    "print(Hitati[\"Date\"].max())\n",
    "print(Hondagiken[\"Date\"].max())\n",
    "print(Softbank[\"Date\"].max())\n",
    "print(Sony[\"Date\"].max())\n",
    "print(Suzuki[\"Date\"].max())"
   ]
  },
  {
   "cell_type": "code",
   "execution_count": 11,
   "id": "f15510e2-5e16-430b-b2a4-cbbd3c4a7e54",
   "metadata": {},
   "outputs": [],
   "source": [
    "# コピーの作成\n",
    "Toyota_time = Toyota.copy()\n",
    "Aisin_time = Aisin.copy()\n",
    "Fujitu_time = Fujitu.copy()\n",
    "Hitati_time = Hitati.copy()\n",
    "Hondagiken_time = Hondagiken.copy()\n",
    "Nissan_time = Nissan.copy()\n",
    "Softbank_time = Softbank.copy()\n",
    "Sony_time = Sony.copy()\n",
    "Suzuki_time = Suzuki.copy()"
   ]
  },
  {
   "cell_type": "code",
   "execution_count": 12,
   "id": "3dad9ca8-5dce-4024-92d2-55233505014f",
   "metadata": {},
   "outputs": [
    {
     "name": "stdout",
     "output_type": "stream",
     "text": [
      "company              object\n",
      "Date         datetime64[ns]\n",
      "Adj Close           float64\n",
      "Close               float64\n",
      "High                float64\n",
      "Low                 float64\n",
      "Open                float64\n",
      "Volume                int64\n",
      "dtype: object\n"
     ]
    }
   ],
   "source": [
    "print(Toyota_time.dtypes)"
   ]
  },
  {
   "cell_type": "code",
   "execution_count": 18,
   "id": "080e2b38-771c-4fd3-82a5-d6ed11b024cb",
   "metadata": {},
   "outputs": [],
   "source": [
    "# 条件(2004年から2024年)に基づいてデータを抽出\n",
    "Toyota_time = Toyota_time[(Toyota_time['Date'] >= '2004-01-04') & (Toyota_time['Date'] <= '2024-12-12')]\n",
    "Aisin_time = Aisin_time[(Aisin_time['Date'] >= '2004-01-04') & (Aisin_time['Date'] <= '2024-12-12')]\n",
    "Fujitu_time = Fujitu_time[(Fujitu_time['Date'] >= '2004-01-04') & (Fujitu_time['Date'] <= '2024-12-12')]\n",
    "Hitati_time = Hitati_time[(Hitati_time['Date'] >= '2004-01-04') & (Hitati_time['Date'] <= '2024-12-12')]\n",
    "Hondagiken_time = Hondagiken_time[(Hondagiken_time['Date'] >= '2004-01-04') & (Hondagiken_time['Date'] <= '2024-12-12')]\n",
    "Nissan_time = Nissan_time[(Nissan_time['Date'] >= '2004-01-04') & (Nissan_time['Date'] <= '2024-12-12')]\n",
    "Softbank_time = Softbank_time[(Softbank_time['Date'] >= '2004-01-04') & (Softbank_time['Date'] <= '2024-12-12')]\n",
    "Sony_time = Sony_time[(Sony_time['Date'] >= '2004-01-04') & (Sony_time['Date'] <= '2024-12-12')]\n",
    "Suzuki_time = Suzuki_time[(Suzuki_time['Date'] >= '2004-01-04') & (Suzuki_time['Date'] <= '2024-12-12')]"
   ]
  },
  {
   "cell_type": "code",
   "execution_count": 15,
   "id": "8c73ce46-bbcf-41ed-bff9-9c33e917615f",
   "metadata": {},
   "outputs": [
    {
     "name": "stdout",
     "output_type": "stream",
     "text": [
      "(5192, 8)\n",
      "(973, 8)\n",
      "(6236, 8)\n",
      "(6236, 8)\n",
      "(6236, 8)\n",
      "(6236, 8)\n",
      "(6236, 8)\n",
      "(6236, 8)\n",
      "(6236, 8)\n"
     ]
    }
   ],
   "source": [
    "print(Toyota_time.shape)\n",
    "print(Aisin_time.shape)\n",
    "print(Fujitu_time.shape)\n",
    "print(Hitati_time.shape)\n",
    "print(Hondagiken_time.shape)\n",
    "print(Nissan_time.shape)\n",
    "print(Softbank_time.shape)\n",
    "print(Sony_time.shape)\n",
    "print(Suzuki_time.shape)"
   ]
  },
  {
   "cell_type": "code",
   "execution_count": 16,
   "id": "938ec0c8-e2db-4438-9ee1-5d68488e614e",
   "metadata": {},
   "outputs": [
    {
     "data": {
      "text/html": [
       "<div>\n",
       "<style scoped>\n",
       "    .dataframe tbody tr th:only-of-type {\n",
       "        vertical-align: middle;\n",
       "    }\n",
       "\n",
       "    .dataframe tbody tr th {\n",
       "        vertical-align: top;\n",
       "    }\n",
       "\n",
       "    .dataframe thead th {\n",
       "        text-align: right;\n",
       "    }\n",
       "</style>\n",
       "<table border=\"1\" class=\"dataframe\">\n",
       "  <thead>\n",
       "    <tr style=\"text-align: right;\">\n",
       "      <th></th>\n",
       "      <th>company</th>\n",
       "      <th>Date</th>\n",
       "      <th>Adj Close</th>\n",
       "      <th>Close</th>\n",
       "      <th>High</th>\n",
       "      <th>Low</th>\n",
       "      <th>Open</th>\n",
       "      <th>Volume</th>\n",
       "    </tr>\n",
       "  </thead>\n",
       "  <tbody>\n",
       "    <tr>\n",
       "      <th>1217</th>\n",
       "      <td>Toyota</td>\n",
       "      <td>2004-01-05</td>\n",
       "      <td>460.646393</td>\n",
       "      <td>756.0</td>\n",
       "      <td>756.0</td>\n",
       "      <td>746.0</td>\n",
       "      <td>750.0</td>\n",
       "      <td>24619500</td>\n",
       "    </tr>\n",
       "    <tr>\n",
       "      <th>1218</th>\n",
       "      <td>Toyota</td>\n",
       "      <td>2004-01-06</td>\n",
       "      <td>454.553192</td>\n",
       "      <td>746.0</td>\n",
       "      <td>756.0</td>\n",
       "      <td>740.0</td>\n",
       "      <td>754.0</td>\n",
       "      <td>28252000</td>\n",
       "    </tr>\n",
       "    <tr>\n",
       "      <th>1219</th>\n",
       "      <td>Toyota</td>\n",
       "      <td>2004-01-07</td>\n",
       "      <td>447.241363</td>\n",
       "      <td>734.0</td>\n",
       "      <td>748.0</td>\n",
       "      <td>724.0</td>\n",
       "      <td>748.0</td>\n",
       "      <td>27457000</td>\n",
       "    </tr>\n",
       "    <tr>\n",
       "      <th>1220</th>\n",
       "      <td>Toyota</td>\n",
       "      <td>2004-01-08</td>\n",
       "      <td>441.148224</td>\n",
       "      <td>724.0</td>\n",
       "      <td>742.0</td>\n",
       "      <td>724.0</td>\n",
       "      <td>736.0</td>\n",
       "      <td>26673500</td>\n",
       "    </tr>\n",
       "    <tr>\n",
       "      <th>1221</th>\n",
       "      <td>Toyota</td>\n",
       "      <td>2004-01-09</td>\n",
       "      <td>452.115906</td>\n",
       "      <td>742.0</td>\n",
       "      <td>746.0</td>\n",
       "      <td>722.0</td>\n",
       "      <td>740.0</td>\n",
       "      <td>45075000</td>\n",
       "    </tr>\n",
       "  </tbody>\n",
       "</table>\n",
       "</div>"
      ],
      "text/plain": [
       "     company       Date   Adj Close  Close   High    Low   Open    Volume\n",
       "1217  Toyota 2004-01-05  460.646393  756.0  756.0  746.0  750.0  24619500\n",
       "1218  Toyota 2004-01-06  454.553192  746.0  756.0  740.0  754.0  28252000\n",
       "1219  Toyota 2004-01-07  447.241363  734.0  748.0  724.0  748.0  27457000\n",
       "1220  Toyota 2004-01-08  441.148224  724.0  742.0  724.0  736.0  26673500\n",
       "1221  Toyota 2004-01-09  452.115906  742.0  746.0  722.0  740.0  45075000"
      ]
     },
     "execution_count": 16,
     "metadata": {},
     "output_type": "execute_result"
    }
   ],
   "source": [
    "Toyota_time.head()"
   ]
  },
  {
   "cell_type": "code",
   "execution_count": 67,
   "id": "e16d2caf-fc1f-40fa-9dac-865d7c62661b",
   "metadata": {},
   "outputs": [],
   "source": [
    "# Aisin は時系列から除く"
   ]
  },
  {
   "cell_type": "code",
   "execution_count": 20,
   "id": "5362f423-a856-4f80-80e7-6f3a83140a4e",
   "metadata": {},
   "outputs": [],
   "source": [
    "# 日経平均の折れ線グラフを作成したい。"
   ]
  },
  {
   "cell_type": "code",
   "execution_count": 19,
   "id": "a325fb78-80df-44e8-b47a-bcf33c73fda8",
   "metadata": {},
   "outputs": [
    {
     "data": {
      "image/png": "[encoded data removed]",
      "text/plain": [
       "<Figure size 1500x900 with 1 Axes>"
      ]
     },
     "metadata": {},
     "output_type": "display_data"
    }
   ],
   "source": [
    "X = Toyota_time[\"Date\"]\n",
    "X2 = Fujitu_time[\"Date\"]\n",
    "Y = Toyota_time[\"Close\"]\n",
    "Y2 = Fujitu_time[\"Close\"]\n",
    "width = 15\n",
    "height = 9  \n",
    "\n",
    "Blue = \"blue\"\n",
    "Red = \"red\"\n",
    "\n",
    "plt.figure(figsize=(width, height))\n",
    "\n",
    "# Toyota_Closeのプロット\n",
    "plt.plot(X, Y, color=Red, label=\"Toyota_Close\")\n",
    "\n",
    "# Fujitu_Closeのプロット\n",
    "plt.plot(X2, Y2, color=Blue, label=\"Fujitu_Close\")\n",
    "\n",
    "# ラベルやタイトル、y軸の目盛りを設定\n",
    "plt.xlabel(\"Date\")\n",
    "plt.ylabel(\"Close Price\")\n",
    "plt.title(\"Toyota vs Fujitu Close Prices Over Time\")\n",
    "plt.yticks(range(0, 5001, 500))\n",
    "plt.grid(True)\n",
    "\n",
    "# 凡例を追加\n",
    "plt.legend()\n",
    "\n",
    "# グラフを表示\n",
    "plt.show()"
   ]
  },
  {
   "cell_type": "code",
   "execution_count": 43,
   "id": "b2ded8be-4c1a-43de-a677-33b859e33452",
   "metadata": {},
   "outputs": [],
   "source": [
    "Search_Data =pd.read_csv(r\"C:\\Users\\sk062\\Documents\\Data\\Google Search\\Google_Search.csv\")"
   ]
  },
  {
   "cell_type": "code",
   "execution_count": 44,
   "id": "f5434d8a-2971-4aa2-a6c3-2bae78acd1ed",
   "metadata": {},
   "outputs": [
    {
     "data": {
      "text/html": [
       "<div>\n",
       "<style scoped>\n",
       "    .dataframe tbody tr th:only-of-type {\n",
       "        vertical-align: middle;\n",
       "    }\n",
       "\n",
       "    .dataframe tbody tr th {\n",
       "        vertical-align: top;\n",
       "    }\n",
       "\n",
       "    .dataframe thead th {\n",
       "        text-align: right;\n",
       "    }\n",
       "</style>\n",
       "<table border=\"1\" class=\"dataframe\">\n",
       "  <thead>\n",
       "    <tr style=\"text-align: right;\">\n",
       "      <th></th>\n",
       "      <th>Date</th>\n",
       "      <th>Toyota</th>\n",
       "      <th>Fujitu</th>\n",
       "      <th>Hitati</th>\n",
       "      <th>Honda</th>\n",
       "      <th>Nissan</th>\n",
       "      <th>Softbank</th>\n",
       "      <th>Sony</th>\n",
       "      <th>Suzuki</th>\n",
       "    </tr>\n",
       "  </thead>\n",
       "  <tbody>\n",
       "    <tr>\n",
       "      <th>0</th>\n",
       "      <td>2004-01-01</td>\n",
       "      <td>1</td>\n",
       "      <td>16</td>\n",
       "      <td>9</td>\n",
       "      <td>67</td>\n",
       "      <td>38</td>\n",
       "      <td>0</td>\n",
       "      <td>84</td>\n",
       "      <td>33</td>\n",
       "    </tr>\n",
       "    <tr>\n",
       "      <th>1</th>\n",
       "      <td>2004-02-01</td>\n",
       "      <td>1</td>\n",
       "      <td>15</td>\n",
       "      <td>8</td>\n",
       "      <td>66</td>\n",
       "      <td>35</td>\n",
       "      <td>0</td>\n",
       "      <td>75</td>\n",
       "      <td>33</td>\n",
       "    </tr>\n",
       "    <tr>\n",
       "      <th>2</th>\n",
       "      <td>2004-03-01</td>\n",
       "      <td>1</td>\n",
       "      <td>15</td>\n",
       "      <td>9</td>\n",
       "      <td>76</td>\n",
       "      <td>35</td>\n",
       "      <td>0</td>\n",
       "      <td>73</td>\n",
       "      <td>37</td>\n",
       "    </tr>\n",
       "    <tr>\n",
       "      <th>3</th>\n",
       "      <td>2004-04-01</td>\n",
       "      <td>1</td>\n",
       "      <td>15</td>\n",
       "      <td>9</td>\n",
       "      <td>80</td>\n",
       "      <td>33</td>\n",
       "      <td>0</td>\n",
       "      <td>72</td>\n",
       "      <td>40</td>\n",
       "    </tr>\n",
       "    <tr>\n",
       "      <th>4</th>\n",
       "      <td>2004-05-01</td>\n",
       "      <td>1</td>\n",
       "      <td>13</td>\n",
       "      <td>9</td>\n",
       "      <td>82</td>\n",
       "      <td>33</td>\n",
       "      <td>0</td>\n",
       "      <td>71</td>\n",
       "      <td>40</td>\n",
       "    </tr>\n",
       "  </tbody>\n",
       "</table>\n",
       "</div>"
      ],
      "text/plain": [
       "         Date  Toyota  Fujitu  Hitati  Honda  Nissan  Softbank  Sony  Suzuki\n",
       "0  2004-01-01       1      16       9     67      38         0    84      33\n",
       "1  2004-02-01       1      15       8     66      35         0    75      33\n",
       "2  2004-03-01       1      15       9     76      35         0    73      37\n",
       "3  2004-04-01       1      15       9     80      33         0    72      40\n",
       "4  2004-05-01       1      13       9     82      33         0    71      40"
      ]
     },
     "execution_count": 44,
     "metadata": {},
     "output_type": "execute_result"
    }
   ],
   "source": [
    "Search_Data.head()"
   ]
  },
  {
   "cell_type": "code",
   "execution_count": 47,
   "id": "b25786cd-e961-4edd-b08b-2e040cbe0e03",
   "metadata": {},
   "outputs": [],
   "source": [
    "Search_Data[\"Date\"] = pd.to_datetime(Search_Data[\"Date\"])"
   ]
  },
  {
   "cell_type": "code",
   "execution_count": 48,
   "id": "0e35c381-53f5-4ac7-b357-fd8c074697a6",
   "metadata": {},
   "outputs": [
    {
     "data": {
      "text/plain": [
       "Date        datetime64[ns]\n",
       "Toyota               int64\n",
       "Fujitu               int64\n",
       "Hitati               int64\n",
       "Honda                int64\n",
       "Nissan               int64\n",
       "Softbank             int64\n",
       "Sony                 int64\n",
       "Suzuki               int64\n",
       "dtype: object"
      ]
     },
     "execution_count": 48,
     "metadata": {},
     "output_type": "execute_result"
    }
   ],
   "source": [
    "Search_Data.dtypes"
   ]
  },
  {
   "cell_type": "code",
   "execution_count": 49,
   "id": "c92cfe96-8f22-4aac-b502-87ef1779e4df",
   "metadata": {},
   "outputs": [
    {
     "data": {
      "text/plain": [
       "(252, 9)"
      ]
     },
     "execution_count": 49,
     "metadata": {},
     "output_type": "execute_result"
    }
   ],
   "source": [
    "Search_Data.shape"
   ]
  },
  {
   "cell_type": "code",
   "execution_count": 50,
   "id": "7819d881-d838-4f8c-aae7-93580a623e47",
   "metadata": {},
   "outputs": [
    {
     "name": "stdout",
     "output_type": "stream",
     "text": [
      "2004-01-01 00:00:00\n",
      "2024-12-01 00:00:00\n"
     ]
    }
   ],
   "source": [
    "print(Search_Data[\"Date\"].min())\n",
    "print(Search_Data[\"Date\"].max())"
   ]
  },
  {
   "cell_type": "code",
   "execution_count": 74,
   "id": "f002a0c5-5de7-4534-93d4-40102ee3dbd6",
   "metadata": {},
   "outputs": [
    {
     "data": {
      "text/html": [
       "<div>\n",
       "<style scoped>\n",
       "    .dataframe tbody tr th:only-of-type {\n",
       "        vertical-align: middle;\n",
       "    }\n",
       "\n",
       "    .dataframe tbody tr th {\n",
       "        vertical-align: top;\n",
       "    }\n",
       "\n",
       "    .dataframe thead th {\n",
       "        text-align: right;\n",
       "    }\n",
       "</style>\n",
       "<table border=\"1\" class=\"dataframe\">\n",
       "  <thead>\n",
       "    <tr style=\"text-align: right;\">\n",
       "      <th></th>\n",
       "      <th>Date</th>\n",
       "      <th>Toyota</th>\n",
       "      <th>Fujitu</th>\n",
       "      <th>Hitati</th>\n",
       "      <th>Honda</th>\n",
       "      <th>Nissan</th>\n",
       "      <th>Softbank</th>\n",
       "      <th>Sony</th>\n",
       "      <th>Suzuki</th>\n",
       "    </tr>\n",
       "  </thead>\n",
       "  <tbody>\n",
       "    <tr>\n",
       "      <th>count</th>\n",
       "      <td>252</td>\n",
       "      <td>252.000000</td>\n",
       "      <td>252.000000</td>\n",
       "      <td>252.000000</td>\n",
       "      <td>252.000000</td>\n",
       "      <td>252.000000</td>\n",
       "      <td>252.000000</td>\n",
       "      <td>252.000000</td>\n",
       "      <td>252.000000</td>\n",
       "    </tr>\n",
       "    <tr>\n",
       "      <th>mean</th>\n",
       "      <td>2014-06-16 14:17:08.571428608</td>\n",
       "      <td>0.353175</td>\n",
       "      <td>5.464286</td>\n",
       "      <td>4.158730</td>\n",
       "      <td>59.634921</td>\n",
       "      <td>27.984127</td>\n",
       "      <td>2.587302</td>\n",
       "      <td>41.186508</td>\n",
       "      <td>28.527778</td>\n",
       "    </tr>\n",
       "    <tr>\n",
       "      <th>min</th>\n",
       "      <td>2004-01-01 00:00:00</td>\n",
       "      <td>0.000000</td>\n",
       "      <td>1.000000</td>\n",
       "      <td>2.000000</td>\n",
       "      <td>35.000000</td>\n",
       "      <td>15.000000</td>\n",
       "      <td>0.000000</td>\n",
       "      <td>9.000000</td>\n",
       "      <td>4.000000</td>\n",
       "    </tr>\n",
       "    <tr>\n",
       "      <th>25%</th>\n",
       "      <td>2009-03-24 06:00:00</td>\n",
       "      <td>0.000000</td>\n",
       "      <td>2.000000</td>\n",
       "      <td>3.000000</td>\n",
       "      <td>50.000000</td>\n",
       "      <td>23.000000</td>\n",
       "      <td>2.000000</td>\n",
       "      <td>24.000000</td>\n",
       "      <td>25.000000</td>\n",
       "    </tr>\n",
       "    <tr>\n",
       "      <th>50%</th>\n",
       "      <td>2014-06-16 00:00:00</td>\n",
       "      <td>0.000000</td>\n",
       "      <td>3.000000</td>\n",
       "      <td>4.000000</td>\n",
       "      <td>56.000000</td>\n",
       "      <td>26.000000</td>\n",
       "      <td>3.000000</td>\n",
       "      <td>40.000000</td>\n",
       "      <td>28.000000</td>\n",
       "    </tr>\n",
       "    <tr>\n",
       "      <th>75%</th>\n",
       "      <td>2019-09-08 12:00:00</td>\n",
       "      <td>1.000000</td>\n",
       "      <td>8.000000</td>\n",
       "      <td>5.000000</td>\n",
       "      <td>68.000000</td>\n",
       "      <td>32.000000</td>\n",
       "      <td>3.000000</td>\n",
       "      <td>57.000000</td>\n",
       "      <td>32.000000</td>\n",
       "    </tr>\n",
       "    <tr>\n",
       "      <th>max</th>\n",
       "      <td>2024-12-01 00:00:00</td>\n",
       "      <td>2.000000</td>\n",
       "      <td>16.000000</td>\n",
       "      <td>9.000000</td>\n",
       "      <td>100.000000</td>\n",
       "      <td>56.000000</td>\n",
       "      <td>9.000000</td>\n",
       "      <td>100.000000</td>\n",
       "      <td>47.000000</td>\n",
       "    </tr>\n",
       "    <tr>\n",
       "      <th>std</th>\n",
       "      <td>NaN</td>\n",
       "      <td>0.487156</td>\n",
       "      <td>4.443841</td>\n",
       "      <td>1.741972</td>\n",
       "      <td>13.190364</td>\n",
       "      <td>7.911346</td>\n",
       "      <td>1.565412</td>\n",
       "      <td>19.654611</td>\n",
       "      <td>8.138934</td>\n",
       "    </tr>\n",
       "  </tbody>\n",
       "</table>\n",
       "</div>"
      ],
      "text/plain": [
       "                                Date      Toyota      Fujitu      Hitati  \\\n",
       "count                            252  252.000000  252.000000  252.000000   \n",
       "mean   2014-06-16 14:17:08.571428608    0.353175    5.464286    4.158730   \n",
       "min              2004-01-01 00:00:00    0.000000    1.000000    2.000000   \n",
       "25%              2009-03-24 06:00:00    0.000000    2.000000    3.000000   \n",
       "50%              2014-06-16 00:00:00    0.000000    3.000000    4.000000   \n",
       "75%              2019-09-08 12:00:00    1.000000    8.000000    5.000000   \n",
       "max              2024-12-01 00:00:00    2.000000   16.000000    9.000000   \n",
       "std                              NaN    0.487156    4.443841    1.741972   \n",
       "\n",
       "            Honda      Nissan    Softbank        Sony      Suzuki  \n",
       "count  252.000000  252.000000  252.000000  252.000000  252.000000  \n",
       "mean    59.634921   27.984127    2.587302   41.186508   28.527778  \n",
       "min     35.000000   15.000000    0.000000    9.000000    4.000000  \n",
       "25%     50.000000   23.000000    2.000000   24.000000   25.000000  \n",
       "50%     56.000000   26.000000    3.000000   40.000000   28.000000  \n",
       "75%     68.000000   32.000000    3.000000   57.000000   32.000000  \n",
       "max    100.000000   56.000000    9.000000  100.000000   47.000000  \n",
       "std     13.190364    7.911346    1.565412   19.654611    8.138934  "
      ]
     },
     "execution_count": 74,
     "metadata": {},
     "output_type": "execute_result"
    }
   ],
   "source": [
    "Search_Data.describe()"
   ]
  },
  {
   "cell_type": "code",
   "execution_count": 75,
   "id": "cecd0644-aa0d-4c61-8fdc-151c7d456d06",
   "metadata": {},
   "outputs": [
    {
     "data": {
      "text/plain": [
       "count    5192.000000\n",
       "mean     1322.625944\n",
       "std       603.210313\n",
       "min       475.200012\n",
       "25%       822.000000\n",
       "50%      1258.599976\n",
       "75%      1525.800049\n",
       "max      3872.000000\n",
       "Name: Close, dtype: float64"
      ]
     },
     "execution_count": 75,
     "metadata": {},
     "output_type": "execute_result"
    }
   ],
   "source": [
    "Toyota_time[\"Close\"].describe()"
   ]
  },
  {
   "cell_type": "code",
   "execution_count": 83,
   "id": "1298dbd2-febc-4090-b5c7-3d9c0ce3f4fe",
   "metadata": {},
   "outputs": [
    {
     "data": {
      "image/png": "[encoded data removed]",
      "text/plain": [
       "<Figure size 640x480 with 2 Axes>"
      ]
     },
     "metadata": {},
     "output_type": "display_data"
    }
   ],
   "source": [
    "X = Toyota_time[\"Date\"]\n",
    "X2 = Fujitu_time[\"Date\"]\n",
    "Y = Toyota_time[\"Close\"]\n",
    "Y2 = Fujitu_time[\"Close\"]\n",
    "X3 = Search_Data[\"Date\"]\n",
    "Y3 = Search_Data[\"Toyota\"]\n",
    "\n",
    "black = \"black\"\n",
    "\n",
    "# 図と軸の作成\n",
    "fig, ax1 = plt.subplots()\n",
    "\n",
    "# 左側の軸 (Close_Price)\n",
    "ax1.plot(X, Y, color='blue', label='Close_Price(Toyota)')\n",
    "ax1.set_xlabel('Date')\n",
    "ax1.set_ylabel('Close_Price', color=black)\n",
    "ax1.tick_params(axis='y', labelcolor=black)\n",
    "ax1.set_ylim(0, 4000)  # 範囲を0から4000に設定\n",
    "ax1.set_yticks(range(0, 4001, 500))  # 500間隔の目盛\n",
    "\n",
    "# 右側の軸 (Search_Count)\n",
    "ax2 = ax1.twinx()\n",
    "ax2.plot(X3, Y3, color='red', label='Search_Count(Toyota)')\n",
    "ax2.set_ylabel('Search_Count', color=black)\n",
    "ax2.tick_params(axis='y', labelcolor=black)\n",
    "ax2.set_ylim(0, 120)  # 範囲を0から120に設定\n",
    "ax2.set_yticks(range(0, 121, 15))  # 15間隔の目盛\n",
    "\n",
    "# 凡例の追加\n",
    "ax1.legend(loc='upper left')\n",
    "ax2.legend(loc='upper right')\n",
    "\n",
    "# グリッドとタイトルの追加\n",
    "ax1.grid()\n",
    "\n",
    "# 図を表示\n",
    "plt.show()"
   ]
  },
  {
   "cell_type": "code",
   "execution_count": 85,
   "id": "2c849a1c-8529-4687-9790-775468f66816",
   "metadata": {},
   "outputs": [
    {
     "data": {
      "image/png": "[encoded data removed]",
      "text/plain": [
       "<Figure size 640x480 with 2 Axes>"
      ]
     },
     "metadata": {},
     "output_type": "display_data"
    }
   ],
   "source": [
    "X3 = Search_Data[\"Date\"]\n",
    "Y3 = Search_Data[\"Fujitu\"]\n",
    "X2 = Fujitu_time[\"Date\"]\n",
    "Y2 = Fujitu_time[\"Close\"]\n",
    "\n",
    "black = \"black\"\n",
    "\n",
    "# 図と軸の作成\n",
    "fig, ax1 = plt.subplots()\n",
    "\n",
    "# 左側の軸 (Close_Price)\n",
    "ax1.plot(X2, Y2, color='blue', label='Close_Price(Fujitu)')\n",
    "ax1.set_xlabel('Date')\n",
    "ax1.set_ylabel('Close_Price', color=black)\n",
    "ax1.tick_params(axis='y', labelcolor=black)\n",
    "ax1.set_ylim(0, 4000)  # 範囲を0から4000に設定\n",
    "ax1.set_yticks(range(0, 4001, 500))  # 500間隔の目盛\n",
    "\n",
    "# 右側の軸 (Search_Count)\n",
    "ax2 = ax1.twinx()\n",
    "ax2.plot(X3, Y3, color='red', label='Search_Count(Fujitu)')\n",
    "ax2.set_ylabel('Search_Count', color=black)\n",
    "ax2.tick_params(axis='y', labelcolor=black)\n",
    "ax2.set_ylim(0, 120)  # 範囲を0から120に設定\n",
    "ax2.set_yticks(range(0, 121, 15))  # 15間隔の目盛\n",
    "\n",
    "# 凡例の追加\n",
    "ax1.legend(loc='upper left')\n",
    "ax2.legend(loc='upper right')\n",
    "\n",
    "# グリッドとタイトルの追加\n",
    "ax1.grid()\n",
    "\n",
    "# 図を表示\n",
    "plt.show()"
   ]
  },
  {
   "cell_type": "code",
   "execution_count": 94,
   "id": "c8e69188-83f2-49a2-92e7-c1ff8640aab2",
   "metadata": {},
   "outputs": [
    {
     "name": "stdout",
     "output_type": "stream",
     "text": [
      "トヨタの株価のデータサイズ (5192, 8)\n",
      "トヨタの検索数 (252, 9)\n"
     ]
    }
   ],
   "source": [
    "# 終値と検索数には相関がないのかどうか\n",
    "# lengeが異なるために標準化する必要性あり。\n",
    "print(\"トヨタの株価のデータサイズ\",Toyota_time.shape)\n",
    "print(\"トヨタの検索数\",Search_Data.shape)"
   ]
  },
  {
   "cell_type": "code",
   "execution_count": 95,
   "id": "68f35b28-98e0-4d42-aebd-eb22a76b2f32",
   "metadata": {},
   "outputs": [
    {
     "name": "stdout",
     "output_type": "stream",
     "text": [
      "トヨタの株価 1217    756.0\n",
      "1218    746.0\n",
      "1219    734.0\n",
      "1220    724.0\n",
      "1221    742.0\n",
      "Name: Close, dtype: float64\n",
      "トヨタの株価の日付 1217   2004-01-05\n",
      "1218   2004-01-06\n",
      "1219   2004-01-07\n",
      "1220   2004-01-08\n",
      "1221   2004-01-09\n",
      "Name: Date, dtype: datetime64[ns]\n",
      "検索数の日付 0   2004-01-01\n",
      "1   2004-02-01\n",
      "2   2004-03-01\n",
      "3   2004-04-01\n",
      "4   2004-05-01\n",
      "Name: Date, dtype: datetime64[ns]\n",
      "検索数(トヨタ) 0    1\n",
      "1    1\n",
      "2    1\n",
      "3    1\n",
      "4    1\n",
      "Name: Toyota, dtype: int64\n"
     ]
    }
   ],
   "source": [
    "print(\"トヨタの株価\",Toyota_time[\"Close\"].head())\n",
    "print(\"トヨタの株価の日付\",Toyota_time[\"Date\"].head())\n",
    "print(\"検索数の日付\",Search_Data[\"Date\"].head())\n",
    "print(\"検索数(トヨタ)\",Search_Data[\"Toyota\"].head())"
   ]
  },
  {
   "cell_type": "code",
   "execution_count": 104,
   "id": "88863cf3-2ddd-49c8-8ca9-40aa61d0df53",
   "metadata": {},
   "outputs": [],
   "source": [
    "Toyota_time['Month'] = Toyota_time['Date'].dt.to_period('M')"
   ]
  },
  {
   "cell_type": "code",
   "execution_count": 105,
   "id": "b113c20b-a27c-4e6d-897f-7af1e181affe",
   "metadata": {},
   "outputs": [],
   "source": [
    "monthly_avg_stock = Toyota_time.groupby('Month')['Close'].mean().reset_index()"
   ]
  },
  {
   "cell_type": "code",
   "execution_count": 106,
   "id": "ea1fe988-bb14-4cc2-b0b6-8d12dde65bf0",
   "metadata": {},
   "outputs": [],
   "source": [
    "monthly_avg_stock['Month'] = monthly_avg_stock['Month'].dt.to_timestamp()"
   ]
  },
  {
   "cell_type": "code",
   "execution_count": 107,
   "id": "ed6d4497-cda3-4484-b628-3b5c0798eabd",
   "metadata": {},
   "outputs": [
    {
     "data": {
      "text/html": [
       "<div>\n",
       "<style scoped>\n",
       "    .dataframe tbody tr th:only-of-type {\n",
       "        vertical-align: middle;\n",
       "    }\n",
       "\n",
       "    .dataframe tbody tr th {\n",
       "        vertical-align: top;\n",
       "    }\n",
       "\n",
       "    .dataframe thead th {\n",
       "        text-align: right;\n",
       "    }\n",
       "</style>\n",
       "<table border=\"1\" class=\"dataframe\">\n",
       "  <thead>\n",
       "    <tr style=\"text-align: right;\">\n",
       "      <th></th>\n",
       "      <th>Month</th>\n",
       "      <th>Close</th>\n",
       "    </tr>\n",
       "  </thead>\n",
       "  <tbody>\n",
       "    <tr>\n",
       "      <th>0</th>\n",
       "      <td>2004-01-01</td>\n",
       "      <td>729.400000</td>\n",
       "    </tr>\n",
       "    <tr>\n",
       "      <th>1</th>\n",
       "      <td>2004-02-01</td>\n",
       "      <td>720.900000</td>\n",
       "    </tr>\n",
       "    <tr>\n",
       "      <th>2</th>\n",
       "      <td>2004-03-01</td>\n",
       "      <td>768.608696</td>\n",
       "    </tr>\n",
       "    <tr>\n",
       "      <th>3</th>\n",
       "      <td>2004-04-01</td>\n",
       "      <td>788.272727</td>\n",
       "    </tr>\n",
       "    <tr>\n",
       "      <th>4</th>\n",
       "      <td>2004-05-01</td>\n",
       "      <td>780.380952</td>\n",
       "    </tr>\n",
       "    <tr>\n",
       "      <th>...</th>\n",
       "      <td>...</td>\n",
       "      <td>...</td>\n",
       "    </tr>\n",
       "    <tr>\n",
       "      <th>247</th>\n",
       "      <td>2024-08-01</td>\n",
       "      <td>2611.190476</td>\n",
       "    </tr>\n",
       "    <tr>\n",
       "      <th>248</th>\n",
       "      <td>2024-09-01</td>\n",
       "      <td>2591.131579</td>\n",
       "    </tr>\n",
       "    <tr>\n",
       "      <th>249</th>\n",
       "      <td>2024-10-01</td>\n",
       "      <td>2598.477273</td>\n",
       "    </tr>\n",
       "    <tr>\n",
       "      <th>250</th>\n",
       "      <td>2024-11-01</td>\n",
       "      <td>2665.075000</td>\n",
       "    </tr>\n",
       "    <tr>\n",
       "      <th>251</th>\n",
       "      <td>2024-12-01</td>\n",
       "      <td>2652.722222</td>\n",
       "    </tr>\n",
       "  </tbody>\n",
       "</table>\n",
       "<p>252 rows × 2 columns</p>\n",
       "</div>"
      ],
      "text/plain": [
       "         Month        Close\n",
       "0   2004-01-01   729.400000\n",
       "1   2004-02-01   720.900000\n",
       "2   2004-03-01   768.608696\n",
       "3   2004-04-01   788.272727\n",
       "4   2004-05-01   780.380952\n",
       "..         ...          ...\n",
       "247 2024-08-01  2611.190476\n",
       "248 2024-09-01  2591.131579\n",
       "249 2024-10-01  2598.477273\n",
       "250 2024-11-01  2665.075000\n",
       "251 2024-12-01  2652.722222\n",
       "\n",
       "[252 rows x 2 columns]"
      ]
     },
     "execution_count": 107,
     "metadata": {},
     "output_type": "execute_result"
    }
   ],
   "source": [
    "monthly_avg_stock"
   ]
  },
  {
   "cell_type": "code",
   "execution_count": 117,
   "id": "2b292aa8-ceaa-40e2-a3b1-1f8abe5909d6",
   "metadata": {},
   "outputs": [],
   "source": [
    "merged_data = pd.merge(\n",
    "    Search_Data,  # Search_Data を左側（left）に\n",
    "    monthly_avg_stock,  # monthly_avg_stock を右側（right）に\n",
    "    left_on='Date',  # Search_Data の 'Date' を基準に\n",
    "    right_on='Month',  # monthly_avg_stock の 'Month' を基準に\n",
    "    how='inner'  # inner join を使用\n",
    ")\n",
    "merged_data = merged_data.drop(columns=['Month'])\n",
    "merged_data = merged_data.rename(columns={'Close': 'Toyota_Close'})"
   ]
  },
  {
   "cell_type": "code",
   "execution_count": 118,
   "id": "ccb8d885-c601-4178-b8db-fda516a723a1",
   "metadata": {},
   "outputs": [
    {
     "data": {
      "text/html": [
       "<div>\n",
       "<style scoped>\n",
       "    .dataframe tbody tr th:only-of-type {\n",
       "        vertical-align: middle;\n",
       "    }\n",
       "\n",
       "    .dataframe tbody tr th {\n",
       "        vertical-align: top;\n",
       "    }\n",
       "\n",
       "    .dataframe thead th {\n",
       "        text-align: right;\n",
       "    }\n",
       "</style>\n",
       "<table border=\"1\" class=\"dataframe\">\n",
       "  <thead>\n",
       "    <tr style=\"text-align: right;\">\n",
       "      <th></th>\n",
       "      <th>Date</th>\n",
       "      <th>Toyota</th>\n",
       "      <th>Fujitu</th>\n",
       "      <th>Hitati</th>\n",
       "      <th>Honda</th>\n",
       "      <th>Nissan</th>\n",
       "      <th>Softbank</th>\n",
       "      <th>Sony</th>\n",
       "      <th>Suzuki</th>\n",
       "      <th>Toyota_Close</th>\n",
       "    </tr>\n",
       "  </thead>\n",
       "  <tbody>\n",
       "    <tr>\n",
       "      <th>0</th>\n",
       "      <td>2004-01-01</td>\n",
       "      <td>1</td>\n",
       "      <td>16</td>\n",
       "      <td>9</td>\n",
       "      <td>67</td>\n",
       "      <td>38</td>\n",
       "      <td>0</td>\n",
       "      <td>84</td>\n",
       "      <td>33</td>\n",
       "      <td>729.400000</td>\n",
       "    </tr>\n",
       "    <tr>\n",
       "      <th>1</th>\n",
       "      <td>2004-02-01</td>\n",
       "      <td>1</td>\n",
       "      <td>15</td>\n",
       "      <td>8</td>\n",
       "      <td>66</td>\n",
       "      <td>35</td>\n",
       "      <td>0</td>\n",
       "      <td>75</td>\n",
       "      <td>33</td>\n",
       "      <td>720.900000</td>\n",
       "    </tr>\n",
       "    <tr>\n",
       "      <th>2</th>\n",
       "      <td>2004-03-01</td>\n",
       "      <td>1</td>\n",
       "      <td>15</td>\n",
       "      <td>9</td>\n",
       "      <td>76</td>\n",
       "      <td>35</td>\n",
       "      <td>0</td>\n",
       "      <td>73</td>\n",
       "      <td>37</td>\n",
       "      <td>768.608696</td>\n",
       "    </tr>\n",
       "    <tr>\n",
       "      <th>3</th>\n",
       "      <td>2004-04-01</td>\n",
       "      <td>1</td>\n",
       "      <td>15</td>\n",
       "      <td>9</td>\n",
       "      <td>80</td>\n",
       "      <td>33</td>\n",
       "      <td>0</td>\n",
       "      <td>72</td>\n",
       "      <td>40</td>\n",
       "      <td>788.272727</td>\n",
       "    </tr>\n",
       "    <tr>\n",
       "      <th>4</th>\n",
       "      <td>2004-05-01</td>\n",
       "      <td>1</td>\n",
       "      <td>13</td>\n",
       "      <td>9</td>\n",
       "      <td>82</td>\n",
       "      <td>33</td>\n",
       "      <td>0</td>\n",
       "      <td>71</td>\n",
       "      <td>40</td>\n",
       "      <td>780.380952</td>\n",
       "    </tr>\n",
       "  </tbody>\n",
       "</table>\n",
       "</div>"
      ],
      "text/plain": [
       "        Date  Toyota  Fujitu  Hitati  Honda  Nissan  Softbank  Sony  Suzuki  \\\n",
       "0 2004-01-01       1      16       9     67      38         0    84      33   \n",
       "1 2004-02-01       1      15       8     66      35         0    75      33   \n",
       "2 2004-03-01       1      15       9     76      35         0    73      37   \n",
       "3 2004-04-01       1      15       9     80      33         0    72      40   \n",
       "4 2004-05-01       1      13       9     82      33         0    71      40   \n",
       "\n",
       "   Toyota_Close  \n",
       "0    729.400000  \n",
       "1    720.900000  \n",
       "2    768.608696  \n",
       "3    788.272727  \n",
       "4    780.380952  "
      ]
     },
     "execution_count": 118,
     "metadata": {},
     "output_type": "execute_result"
    }
   ],
   "source": [
    "merged_data.head()"
   ]
  },
  {
   "cell_type": "code",
   "execution_count": 121,
   "id": "05ebe51d-0f02-4b1a-81f5-54047fb4ab1d",
   "metadata": {},
   "outputs": [
    {
     "data": {
      "text/plain": [
       "-0.10337414094121736"
      ]
     },
     "execution_count": 121,
     "metadata": {},
     "output_type": "execute_result"
    }
   ],
   "source": [
    "# 株価と検索数の相関(負の相関)\n",
    "merged_data[\"Toyota\"].corr(merged_data[\"Toyota_Close\"])"
   ]
  },
  {
   "cell_type": "code",
   "execution_count": 130,
   "id": "b01ba1b3-b405-40c8-b6a1-edb41bf7ed2c",
   "metadata": {},
   "outputs": [
    {
     "name": "stderr",
     "output_type": "stream",
     "text": [
      "C:\\Users\\sk062\\AppData\\Local\\Temp\\ipykernel_12376\\3443767571.py:11: UserWarning: FigureCanvasAgg is non-interactive, and thus cannot be shown\n",
      "  fig.show()\n"
     ]
    },
    {
     "data": {
      "image/png": "[encoded data removed]",
      "text/plain": [
       "<Figure size 640x480 with 1 Axes>"
      ]
     },
     "metadata": {},
     "output_type": "display_data"
    }
   ],
   "source": [
    "# 株価と検索数の散布図\n",
    "X = merged_data[\"Toyota\"]\n",
    "Y =merged_data[\"Toyota_Close\"]\n",
    "\n",
    "fig = plt.figure()\n",
    "\n",
    "ax = fig.add_subplot(1,1,1)\n",
    "\n",
    "ax.scatter(X,Y)\n",
    "\n",
    "fig.show()"
   ]
  },
  {
   "cell_type": "code",
   "execution_count": null,
   "id": "198441b6-27e0-4056-85d6-c37fe75b4434",
   "metadata": {},
   "outputs": [],
   "source": []
  }
 ],
 "metadata": {
  "kernelspec": {
   "display_name": "Python 3 (ipykernel)",
   "language": "python",
   "name": "python3"
  },
  "language_info": {
   "codemirror_mode": {
    "name": "ipython",
    "version": 3
   },
   "file_extension": ".py",
   "mimetype": "text/x-python",
   "name": "python",
   "nbconvert_exporter": "python",
   "pygments_lexer": "ipython3",
   "version": "3.12.7"
  }
 },
 "nbformat": 4,
 "nbformat_minor": 5
}
