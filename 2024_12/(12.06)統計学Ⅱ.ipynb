{
  "nbformat": 4,
  "nbformat_minor": 0,
  "metadata": {
    "colab": {
      "provenance": [],
      "authorship_tag": "ABX9TyPihyxCVV0HTY9nRErcrngB",
      "include_colab_link": true
    },
    "kernelspec": {
      "name": "python3",
      "display_name": "Python 3"
    },
    "language_info": {
      "name": "python"
    }
  },
  "cells": [
    {
      "cell_type": "markdown",
      "metadata": {
        "id": "view-in-github",
        "colab_type": "text"
      },
      "source": [
        "<a href=\"https://colab.research.google.com/github/Keita062/work/blob/main/%E7%B5%B1%E8%A8%88%E5%AD%A6%E2%85%A1(12_06).ipynb\" target=\"_parent\"><img src=\"https://colab.research.google.com/assets/colab-badge.svg\" alt=\"Open In Colab\"/></a>"
      ]
    },
    {
      "cell_type": "code",
      "source": [
        "import pandas as pd\n",
        "import numpy as np"
      ],
      "metadata": {
        "id": "aP2TRPo-V4v4"
      },
      "execution_count": 2,
      "outputs": []
    },
    {
      "cell_type": "code",
      "execution_count": 16,
      "metadata": {
        "colab": {
          "base_uri": "https://localhost:8080/"
        },
        "id": "7TYtXo-ZVnVa",
        "outputId": "5853a3d0-d51a-4d15-d4eb-92eb42ca588b"
      },
      "outputs": [
        {
          "output_type": "stream",
          "name": "stdout",
          "text": [
            "153.24\n",
            "176.76\n"
          ]
        }
      ],
      "source": [
        "# (sigma)^2 = 6^2\n",
        "# X：単一標本地\n",
        "# S:母分散の平方根(標準偏差)\n",
        "\n",
        "# Que.)  σ^2=6^2のとき、標本値が165㎝。このときの95%信頼区間は？\n",
        "\n",
        "X = 165\n",
        "Std = 6\n",
        "under1 = X - 1.96 * S\n",
        "top1 = X + 1.96 * S\n",
        "print(under1)\n",
        "print(top1)"
      ]
    },
    {
      "cell_type": "code",
      "source": [
        "# Que2.) σ~2 = 6~2のとき、標本値が165, 170, 163, 171, 161, 162, 180, 158, 164cm ( n = 9 )。このときの信頼区間は?\n",
        "\n",
        "\n",
        "X = [165, 170, 163, 171, 161, 162, 180, 158, 164]\n",
        "\n",
        "X_mean = np.mean(X)\n",
        "under2 = X_mean - 1.96 * 6/np.sqrt(9)\n",
        "top2 = X_mean + 1.96 * 6/np.sqrt(9)\n",
        "print(under2)\n",
        "print(top2)"
      ],
      "metadata": {
        "colab": {
          "base_uri": "https://localhost:8080/"
        },
        "id": "oGLcyfUNXpaF",
        "outputId": "31b583ce-9406-4f74-d578-d7a966988f52"
      },
      "execution_count": 20,
      "outputs": [
        {
          "output_type": "stream",
          "name": "stdout",
          "text": [
            "162.08\n",
            "169.92\n"
          ]
        }
      ]
    },
    {
      "cell_type": "code",
      "source": [
        "X = [94, 99, 86, 101]\n",
        "# 不偏分散を計算\n",
        "unbiased_variance = np.var(X, ddof=1)  # ddof=1 は n-1 を指定\n",
        "print(\"不偏分散:\", unbiased_variance)\n",
        "\n",
        "\n",
        "X - unbiased_variance/√n\n"
      ],
      "metadata": {
        "colab": {
          "base_uri": "https://localhost:8080/"
        },
        "id": "hDB9VmctYm3v",
        "outputId": "01cad524-ec1b-4b84-ec07-6366cbdbd105"
      },
      "execution_count": 22,
      "outputs": [
        {
          "output_type": "stream",
          "name": "stdout",
          "text": [
            "不偏分散: 44.666666666666664\n"
          ]
        }
      ]
    },
    {
      "cell_type": "code",
      "source": [
        "import numpy as np\n",
        "import scipy.stats as stats"
      ],
      "metadata": {
        "id": "u2I-bT1odHdl"
      },
      "execution_count": 24,
      "outputs": []
    },
    {
      "cell_type": "code",
      "source": [
        "# 標本データ\n",
        "data = [94, 99, 86, 101]\n",
        "\n",
        "# 1. 標本平均\n",
        "sample_mean = np.mean(data)\n",
        "\n",
        "# 2. 標本標準偏差\n",
        "sample_std = np.std(data, ddof=1)  # ddof=1 は標本標準偏差のため\n",
        "\n",
        "# 3. サンプルサイズと自由度\n",
        "n = len(data)\n",
        "df = n - 1\n",
        "\n",
        "# 4. t分布の臨界値 (95%信頼区間、片側2.5%の値)\n",
        "t_value = stats.t.ppf(1 - 0.025, df)\n",
        "\n",
        "# 5. 信頼区間の計算\n",
        "margin_of_error = t_value * (sample_std / np.sqrt(n))\n",
        "confidence_interval = (sample_mean - margin_of_error, sample_mean + margin_of_error)\n",
        "\n",
        "# 結果出力\n",
        "print(f\"標本平均: {sample_mean:.2f}\")\n",
        "print(f\"標本標準偏差: {sample_std:.2f}\")\n",
        "print(f\"自由度: {df}\")\n",
        "print(f\"t値: {t_value:.3f}\")\n",
        "print(f\"95%信頼区間: {confidence_interval[0]:.2f}, {confidence_interval[1]:.2f}\")\n"
      ],
      "metadata": {
        "colab": {
          "base_uri": "https://localhost:8080/"
        },
        "id": "dU9b9mthaunh",
        "outputId": "eb423e22-f6af-467a-e3ee-2adf747954c0"
      },
      "execution_count": 25,
      "outputs": [
        {
          "output_type": "stream",
          "name": "stdout",
          "text": [
            "標本平均: 95.00\n",
            "標本標準偏差: 6.68\n",
            "自由度: 3\n",
            "t値: 3.182\n",
            "95%信頼区間: 84.37, 105.63\n"
          ]
        }
      ]
    },
    {
      "cell_type": "code",
      "source": [
        "#Que.4 ある市の選挙では、候補者 A と候補者 B が争っている。無作為に選んだ有権者400 人に「誰に投票したか」を出口調査で聞いたところ、320人が候補者Aに投票したと回答した。95%信頼区間を使って、候補者 A の最終得票率が 50% を上回るかを判断し、「当選確実」を出すべきかを考えよ\n",
        "\n",
        "r = 320\n",
        "n = 400\n",
        "p_hat =r / n\n",
        "\n",
        "under3 = p_hat -1.96 * np.sqrt(p_hat*(1-p_hat)/n)\n",
        "top3 = p_hat +1.96 * np.sqrt(p_hat*(1-p_hat)/n)\n",
        "print(under3)\n",
        "print(top3)"
      ],
      "metadata": {
        "colab": {
          "base_uri": "https://localhost:8080/"
        },
        "id": "BN7yv_cQdISN",
        "outputId": "87b592c4-6afd-4f57-d969-bcb138746cd9"
      },
      "execution_count": 29,
      "outputs": [
        {
          "output_type": "stream",
          "name": "stdout",
          "text": [
            "0.7608\n",
            "0.8392000000000001\n"
          ]
        }
      ]
    },
    {
      "cell_type": "code",
      "source": [],
      "metadata": {
        "id": "D0EBPk2qekNU"
      },
      "execution_count": null,
      "outputs": []
    }
  ]
}
