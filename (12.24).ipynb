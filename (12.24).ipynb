{
 "cells": [
  {
   "cell_type": "code",
   "execution_count": 1,
   "id": "25d4b33c-f94c-464b-bf3b-96171a317842",
   "metadata": {},
   "outputs": [],
   "source": [
    "import numpy as np\n",
    "import pandas as pd\n",
    "import matplotlib.pyplot as plt\n",
    "import seaborn as sns"
   ]
  },
  {
   "cell_type": "code",
   "execution_count": 5,
   "id": "b1c6890d-08c5-481c-9de6-db8b346a698d",
   "metadata": {},
   "outputs": [],
   "source": [
    "import statistics\n",
    "import math"
   ]
  },
  {
   "cell_type": "code",
   "execution_count": 2,
   "id": "ef7abf27-f71b-40ea-80f5-039a00f595e1",
   "metadata": {},
   "outputs": [],
   "source": [
    "df = pd.read_csv(r\"C:\\Users\\sk062\\Documents\\Data\\Google Search\\Search.csv\")\n",
    "Data = pd.DataFrame(df)\n",
    "Data[\"Data\"] = pd.to_datetime(Data[\"Data\"])\n",
    "# 'month' 列を作成\n",
    "Data['month'] = Data['Data'].dt.month\n",
    "# 'date' 列を作成\n",
    "Data['day'] = Data['Data'].dt.day\n",
    "# 'week_number' 列を作成\n",
    "Data[\"week_number\"] = Data[\"Data\"].dt.isocalendar().week"
   ]
  },
  {
   "cell_type": "code",
   "execution_count": 15,
   "id": "92daea59-e7ce-4748-b3c6-6fac99753900",
   "metadata": {},
   "outputs": [
    {
     "data": {
      "text/html": [
       "<div>\n",
       "<style scoped>\n",
       "    .dataframe tbody tr th:only-of-type {\n",
       "        vertical-align: middle;\n",
       "    }\n",
       "\n",
       "    .dataframe tbody tr th {\n",
       "        vertical-align: top;\n",
       "    }\n",
       "\n",
       "    .dataframe thead th {\n",
       "        text-align: right;\n",
       "    }\n",
       "</style>\n",
       "<table border=\"1\" class=\"dataframe\">\n",
       "  <thead>\n",
       "    <tr style=\"text-align: right;\">\n",
       "      <th></th>\n",
       "      <th>AIR JORDAN</th>\n",
       "      <th>AIR FORCE</th>\n",
       "      <th>AIR MAX</th>\n",
       "      <th>DUNK</th>\n",
       "    </tr>\n",
       "  </thead>\n",
       "  <tbody>\n",
       "    <tr>\n",
       "      <th>0</th>\n",
       "      <td>43</td>\n",
       "      <td>22</td>\n",
       "      <td>62</td>\n",
       "      <td>6</td>\n",
       "    </tr>\n",
       "    <tr>\n",
       "      <th>1</th>\n",
       "      <td>47</td>\n",
       "      <td>22</td>\n",
       "      <td>65</td>\n",
       "      <td>4</td>\n",
       "    </tr>\n",
       "    <tr>\n",
       "      <th>2</th>\n",
       "      <td>51</td>\n",
       "      <td>26</td>\n",
       "      <td>100</td>\n",
       "      <td>3</td>\n",
       "    </tr>\n",
       "    <tr>\n",
       "      <th>3</th>\n",
       "      <td>44</td>\n",
       "      <td>20</td>\n",
       "      <td>74</td>\n",
       "      <td>4</td>\n",
       "    </tr>\n",
       "    <tr>\n",
       "      <th>4</th>\n",
       "      <td>41</td>\n",
       "      <td>23</td>\n",
       "      <td>68</td>\n",
       "      <td>4</td>\n",
       "    </tr>\n",
       "  </tbody>\n",
       "</table>\n",
       "</div>"
      ],
      "text/plain": [
       "   AIR JORDAN  AIR FORCE  AIR MAX  DUNK\n",
       "0          43         22       62     6\n",
       "1          47         22       65     4\n",
       "2          51         26      100     3\n",
       "3          44         20       74     4\n",
       "4          41         23       68     4"
      ]
     },
     "execution_count": 15,
     "metadata": {},
     "output_type": "execute_result"
    }
   ],
   "source": [
    "Data_Check = Data.drop([\"Data\",\"month\",\"day\",\"week_number\"],axis=1)\n",
    "Data_Check.head()"
   ]
  },
  {
   "cell_type": "code",
   "execution_count": 16,
   "id": "fac27a92-8e0a-4534-9a58-c0ca0445e42b",
   "metadata": {},
   "outputs": [
    {
     "data": {
      "text/html": [
       "<div>\n",
       "<style scoped>\n",
       "    .dataframe tbody tr th:only-of-type {\n",
       "        vertical-align: middle;\n",
       "    }\n",
       "\n",
       "    .dataframe tbody tr th {\n",
       "        vertical-align: top;\n",
       "    }\n",
       "\n",
       "    .dataframe thead th {\n",
       "        text-align: right;\n",
       "    }\n",
       "</style>\n",
       "<table border=\"1\" class=\"dataframe\">\n",
       "  <thead>\n",
       "    <tr style=\"text-align: right;\">\n",
       "      <th></th>\n",
       "      <th>AIR JORDAN</th>\n",
       "      <th>AIR FORCE</th>\n",
       "      <th>AIR MAX</th>\n",
       "      <th>DUNK</th>\n",
       "    </tr>\n",
       "  </thead>\n",
       "  <tbody>\n",
       "    <tr>\n",
       "      <th>count</th>\n",
       "      <td>262.000000</td>\n",
       "      <td>262.000000</td>\n",
       "      <td>262.000000</td>\n",
       "      <td>262.000000</td>\n",
       "    </tr>\n",
       "    <tr>\n",
       "      <th>mean</th>\n",
       "      <td>48.667939</td>\n",
       "      <td>30.637405</td>\n",
       "      <td>44.835878</td>\n",
       "      <td>7.522901</td>\n",
       "    </tr>\n",
       "    <tr>\n",
       "      <th>std</th>\n",
       "      <td>9.574493</td>\n",
       "      <td>8.460536</td>\n",
       "      <td>13.273998</td>\n",
       "      <td>5.787873</td>\n",
       "    </tr>\n",
       "    <tr>\n",
       "      <th>min</th>\n",
       "      <td>19.000000</td>\n",
       "      <td>15.000000</td>\n",
       "      <td>22.000000</td>\n",
       "      <td>2.000000</td>\n",
       "    </tr>\n",
       "    <tr>\n",
       "      <th>25%</th>\n",
       "      <td>43.000000</td>\n",
       "      <td>23.250000</td>\n",
       "      <td>34.250000</td>\n",
       "      <td>4.000000</td>\n",
       "    </tr>\n",
       "    <tr>\n",
       "      <th>50%</th>\n",
       "      <td>48.000000</td>\n",
       "      <td>30.500000</td>\n",
       "      <td>43.000000</td>\n",
       "      <td>6.000000</td>\n",
       "    </tr>\n",
       "    <tr>\n",
       "      <th>75%</th>\n",
       "      <td>53.000000</td>\n",
       "      <td>37.000000</td>\n",
       "      <td>52.000000</td>\n",
       "      <td>8.000000</td>\n",
       "    </tr>\n",
       "    <tr>\n",
       "      <th>max</th>\n",
       "      <td>94.000000</td>\n",
       "      <td>60.000000</td>\n",
       "      <td>100.000000</td>\n",
       "      <td>32.000000</td>\n",
       "    </tr>\n",
       "  </tbody>\n",
       "</table>\n",
       "</div>"
      ],
      "text/plain": [
       "       AIR JORDAN   AIR FORCE     AIR MAX        DUNK\n",
       "count  262.000000  262.000000  262.000000  262.000000\n",
       "mean    48.667939   30.637405   44.835878    7.522901\n",
       "std      9.574493    8.460536   13.273998    5.787873\n",
       "min     19.000000   15.000000   22.000000    2.000000\n",
       "25%     43.000000   23.250000   34.250000    4.000000\n",
       "50%     48.000000   30.500000   43.000000    6.000000\n",
       "75%     53.000000   37.000000   52.000000    8.000000\n",
       "max     94.000000   60.000000  100.000000   32.000000"
      ]
     },
     "execution_count": 16,
     "metadata": {},
     "output_type": "execute_result"
    }
   ],
   "source": [
    "Data_Check.describe()"
   ]
  },
  {
   "cell_type": "code",
   "execution_count": 17,
   "id": "a5be7765-42ac-4818-972f-a1425f973d76",
   "metadata": {},
   "outputs": [
    {
     "name": "stdout",
     "output_type": "stream",
     "text": [
      "AIRJORDANの検索数の最頻値 43\n",
      "AIRFORCEの検索数の最頻値 39\n",
      "AIRMAXの検索数の最頻値 46\n",
      "DUNKの検索数の最頻値 6\n"
     ]
    }
   ],
   "source": [
    "print(\"AIRJORDANの検索数の最頻値\",statistics.mode( Data[\"AIR JORDAN\"] ))\n",
    "print(\"AIRFORCEの検索数の最頻値\",statistics.mode( Data[\"AIR FORCE\"] ))\n",
    "print(\"AIRMAXの検索数の最頻値\",statistics.mode( Data[\"AIR MAX\"] ))\n",
    "print(\"DUNKの検索数の最頻値\",statistics.mode( Data[\"DUNK\"] ))"
   ]
  },
  {
   "cell_type": "code",
   "execution_count": 20,
   "id": "ab1ff90d-28f6-4ea5-bb79-1994051ae1b3",
   "metadata": {},
   "outputs": [
    {
     "name": "stdout",
     "output_type": "stream",
     "text": [
      "度数分布表\n"
     ]
    },
    {
     "data": {
      "text/html": [
       "<div>\n",
       "<style scoped>\n",
       "    .dataframe tbody tr th:only-of-type {\n",
       "        vertical-align: middle;\n",
       "    }\n",
       "\n",
       "    .dataframe tbody tr th {\n",
       "        vertical-align: top;\n",
       "    }\n",
       "\n",
       "    .dataframe thead th {\n",
       "        text-align: right;\n",
       "    }\n",
       "</style>\n",
       "<table border=\"1\" class=\"dataframe\">\n",
       "  <thead>\n",
       "    <tr style=\"text-align: right;\">\n",
       "      <th></th>\n",
       "      <th>AIR JORDAN</th>\n",
       "      <th>AIR FORCE</th>\n",
       "      <th>AIR MAX</th>\n",
       "      <th>DUNK</th>\n",
       "    </tr>\n",
       "  </thead>\n",
       "  <tbody>\n",
       "    <tr>\n",
       "      <th>0~10</th>\n",
       "      <td>0</td>\n",
       "      <td>0</td>\n",
       "      <td>0</td>\n",
       "      <td>213</td>\n",
       "    </tr>\n",
       "    <tr>\n",
       "      <th>10~20</th>\n",
       "      <td>1</td>\n",
       "      <td>38</td>\n",
       "      <td>0</td>\n",
       "      <td>35</td>\n",
       "    </tr>\n",
       "    <tr>\n",
       "      <th>20~30</th>\n",
       "      <td>5</td>\n",
       "      <td>93</td>\n",
       "      <td>34</td>\n",
       "      <td>13</td>\n",
       "    </tr>\n",
       "    <tr>\n",
       "      <th>30~40</th>\n",
       "      <td>28</td>\n",
       "      <td>103</td>\n",
       "      <td>78</td>\n",
       "      <td>1</td>\n",
       "    </tr>\n",
       "    <tr>\n",
       "      <th>40~50</th>\n",
       "      <td>129</td>\n",
       "      <td>25</td>\n",
       "      <td>75</td>\n",
       "      <td>0</td>\n",
       "    </tr>\n",
       "    <tr>\n",
       "      <th>50~60</th>\n",
       "      <td>70</td>\n",
       "      <td>3</td>\n",
       "      <td>38</td>\n",
       "      <td>0</td>\n",
       "    </tr>\n",
       "    <tr>\n",
       "      <th>60~70</th>\n",
       "      <td>21</td>\n",
       "      <td>0</td>\n",
       "      <td>28</td>\n",
       "      <td>0</td>\n",
       "    </tr>\n",
       "    <tr>\n",
       "      <th>70~80</th>\n",
       "      <td>7</td>\n",
       "      <td>0</td>\n",
       "      <td>7</td>\n",
       "      <td>0</td>\n",
       "    </tr>\n",
       "    <tr>\n",
       "      <th>80~90</th>\n",
       "      <td>0</td>\n",
       "      <td>0</td>\n",
       "      <td>0</td>\n",
       "      <td>0</td>\n",
       "    </tr>\n",
       "    <tr>\n",
       "      <th>90~100</th>\n",
       "      <td>1</td>\n",
       "      <td>0</td>\n",
       "      <td>2</td>\n",
       "      <td>0</td>\n",
       "    </tr>\n",
       "  </tbody>\n",
       "</table>\n",
       "</div>"
      ],
      "text/plain": [
       "        AIR JORDAN  AIR FORCE  AIR MAX  DUNK\n",
       "0~10             0          0        0   213\n",
       "10~20            1         38        0    35\n",
       "20~30            5         93       34    13\n",
       "30~40           28        103       78     1\n",
       "40~50          129         25       75     0\n",
       "50~60           70          3       38     0\n",
       "60~70           21          0       28     0\n",
       "70~80            7          0        7     0\n",
       "80~90            0          0        0     0\n",
       "90~100           1          0        2     0"
      ]
     },
     "execution_count": 20,
     "metadata": {},
     "output_type": "execute_result"
    }
   ],
   "source": [
    "bins = [0,10,20,30,40,50,60,70,80,90,100]\n",
    "\n",
    "# 各カラムの度数分布を計算\n",
    "freq_tables = {}\n",
    "for col in Data_Check.columns:\n",
    "    freq = pd.cut(Data_Check[col], bins=bins).value_counts().sort_index()\n",
    "    freq_tables[col] = freq\n",
    "\n",
    "# 結果をデータフレームにまとめる\n",
    "freq_df = pd.DataFrame(freq_tables)\n",
    "freq_df.index = [f\"{interval.left}~{interval.right}\" for interval in freq_df.index]\n",
    "\n",
    "# 度数分布表の出力\n",
    "print(\"度数分布表\")\n",
    "freq_df"
   ]
  },
  {
   "cell_type": "code",
   "execution_count": 25,
   "id": "15f5f6d8-6937-44be-b2f2-19e507864e3c",
   "metadata": {},
   "outputs": [
    {
     "name": "stdout",
     "output_type": "stream",
     "text": [
      "各スニーカーの検索数のヒストグラム\n"
     ]
    },
    {
     "data": {
      "image/png": "[encoded data removed]",
      "text/plain": [
       "<Figure size 1500x500 with 4 Axes>"
      ]
     },
     "metadata": {},
     "output_type": "display_data"
    }
   ],
   "source": [
    "fig, axes = plt.subplots(1, 4, figsize=(15, 5))\n",
    "\n",
    "for i, col in enumerate(Data_Check.columns):\n",
    "    ax = axes[i]\n",
    "    df[col].hist(bins=bins, ax=ax, alpha=0.7, grid=False)\n",
    "    ax.set_ylim(0, 200)\n",
    "    ax.set_yticks(range(0, 201, 10))\n",
    "    ax.set_title(col)\n",
    "\n",
    "plt.tight_layout()\n",
    "\n",
    "print(\"各スニーカーの検索数のヒストグラム\")\n",
    "plt.show()\n"
   ]
  },
  {
   "cell_type": "code",
   "execution_count": null,
   "id": "058834cd-83db-4a1f-a999-409ccec9d6db",
   "metadata": {},
   "outputs": [],
   "source": []
  }
 ],
 "metadata": {
  "kernelspec": {
   "display_name": "Python 3 (ipykernel)",
   "language": "python",
   "name": "python3"
  },
  "language_info": {
   "codemirror_mode": {
    "name": "ipython",
    "version": 3
   },
   "file_extension": ".py",
   "mimetype": "text/x-python",
   "name": "python",
   "nbconvert_exporter": "python",
   "pygments_lexer": "ipython3",
   "version": "3.12.7"
  }
 },
 "nbformat": 4,
 "nbformat_minor": 5
}
